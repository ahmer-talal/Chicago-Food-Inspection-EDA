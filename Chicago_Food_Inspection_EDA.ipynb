{
  "nbformat": 4,
  "nbformat_minor": 0,
  "metadata": {
    "colab": {
      "provenance": []
    },
    "kernelspec": {
      "name": "python3",
      "display_name": "Python 3"
    },
    "language_info": {
      "name": "python"
    }
  },
  "cells": [
    {
      "cell_type": "code",
      "source": [
        "from google.colab import files\n",
        "\n",
        "uploaded = files.upload()"
      ],
      "metadata": {
        "colab": {
          "base_uri": "https://localhost:8080/",
          "height": 73
        },
        "id": "N-ZgszyR_rv7",
        "outputId": "d3ebec50-0d3d-4b46-96a6-3bb1bf7a76cb"
      },
      "execution_count": null,
      "outputs": [
        {
          "output_type": "display_data",
          "data": {
            "text/plain": [
              "<IPython.core.display.HTML object>"
            ],
            "text/html": [
              "\n",
              "     <input type=\"file\" id=\"files-618d8d3e-cf2f-4f6b-b4ed-d515492887c6\" name=\"files[]\" multiple disabled\n",
              "        style=\"border:none\" />\n",
              "     <output id=\"result-618d8d3e-cf2f-4f6b-b4ed-d515492887c6\">\n",
              "      Upload widget is only available when the cell has been executed in the\n",
              "      current browser session. Please rerun this cell to enable.\n",
              "      </output>\n",
              "      <script>// Copyright 2017 Google LLC\n",
              "//\n",
              "// Licensed under the Apache License, Version 2.0 (the \"License\");\n",
              "// you may not use this file except in compliance with the License.\n",
              "// You may obtain a copy of the License at\n",
              "//\n",
              "//      http://www.apache.org/licenses/LICENSE-2.0\n",
              "//\n",
              "// Unless required by applicable law or agreed to in writing, software\n",
              "// distributed under the License is distributed on an \"AS IS\" BASIS,\n",
              "// WITHOUT WARRANTIES OR CONDITIONS OF ANY KIND, either express or implied.\n",
              "// See the License for the specific language governing permissions and\n",
              "// limitations under the License.\n",
              "\n",
              "/**\n",
              " * @fileoverview Helpers for google.colab Python module.\n",
              " */\n",
              "(function(scope) {\n",
              "function span(text, styleAttributes = {}) {\n",
              "  const element = document.createElement('span');\n",
              "  element.textContent = text;\n",
              "  for (const key of Object.keys(styleAttributes)) {\n",
              "    element.style[key] = styleAttributes[key];\n",
              "  }\n",
              "  return element;\n",
              "}\n",
              "\n",
              "// Max number of bytes which will be uploaded at a time.\n",
              "const MAX_PAYLOAD_SIZE = 100 * 1024;\n",
              "\n",
              "function _uploadFiles(inputId, outputId) {\n",
              "  const steps = uploadFilesStep(inputId, outputId);\n",
              "  const outputElement = document.getElementById(outputId);\n",
              "  // Cache steps on the outputElement to make it available for the next call\n",
              "  // to uploadFilesContinue from Python.\n",
              "  outputElement.steps = steps;\n",
              "\n",
              "  return _uploadFilesContinue(outputId);\n",
              "}\n",
              "\n",
              "// This is roughly an async generator (not supported in the browser yet),\n",
              "// where there are multiple asynchronous steps and the Python side is going\n",
              "// to poll for completion of each step.\n",
              "// This uses a Promise to block the python side on completion of each step,\n",
              "// then passes the result of the previous step as the input to the next step.\n",
              "function _uploadFilesContinue(outputId) {\n",
              "  const outputElement = document.getElementById(outputId);\n",
              "  const steps = outputElement.steps;\n",
              "\n",
              "  const next = steps.next(outputElement.lastPromiseValue);\n",
              "  return Promise.resolve(next.value.promise).then((value) => {\n",
              "    // Cache the last promise value to make it available to the next\n",
              "    // step of the generator.\n",
              "    outputElement.lastPromiseValue = value;\n",
              "    return next.value.response;\n",
              "  });\n",
              "}\n",
              "\n",
              "/**\n",
              " * Generator function which is called between each async step of the upload\n",
              " * process.\n",
              " * @param {string} inputId Element ID of the input file picker element.\n",
              " * @param {string} outputId Element ID of the output display.\n",
              " * @return {!Iterable<!Object>} Iterable of next steps.\n",
              " */\n",
              "function* uploadFilesStep(inputId, outputId) {\n",
              "  const inputElement = document.getElementById(inputId);\n",
              "  inputElement.disabled = false;\n",
              "\n",
              "  const outputElement = document.getElementById(outputId);\n",
              "  outputElement.innerHTML = '';\n",
              "\n",
              "  const pickedPromise = new Promise((resolve) => {\n",
              "    inputElement.addEventListener('change', (e) => {\n",
              "      resolve(e.target.files);\n",
              "    });\n",
              "  });\n",
              "\n",
              "  const cancel = document.createElement('button');\n",
              "  inputElement.parentElement.appendChild(cancel);\n",
              "  cancel.textContent = 'Cancel upload';\n",
              "  const cancelPromise = new Promise((resolve) => {\n",
              "    cancel.onclick = () => {\n",
              "      resolve(null);\n",
              "    };\n",
              "  });\n",
              "\n",
              "  // Wait for the user to pick the files.\n",
              "  const files = yield {\n",
              "    promise: Promise.race([pickedPromise, cancelPromise]),\n",
              "    response: {\n",
              "      action: 'starting',\n",
              "    }\n",
              "  };\n",
              "\n",
              "  cancel.remove();\n",
              "\n",
              "  // Disable the input element since further picks are not allowed.\n",
              "  inputElement.disabled = true;\n",
              "\n",
              "  if (!files) {\n",
              "    return {\n",
              "      response: {\n",
              "        action: 'complete',\n",
              "      }\n",
              "    };\n",
              "  }\n",
              "\n",
              "  for (const file of files) {\n",
              "    const li = document.createElement('li');\n",
              "    li.append(span(file.name, {fontWeight: 'bold'}));\n",
              "    li.append(span(\n",
              "        `(${file.type || 'n/a'}) - ${file.size} bytes, ` +\n",
              "        `last modified: ${\n",
              "            file.lastModifiedDate ? file.lastModifiedDate.toLocaleDateString() :\n",
              "                                    'n/a'} - `));\n",
              "    const percent = span('0% done');\n",
              "    li.appendChild(percent);\n",
              "\n",
              "    outputElement.appendChild(li);\n",
              "\n",
              "    const fileDataPromise = new Promise((resolve) => {\n",
              "      const reader = new FileReader();\n",
              "      reader.onload = (e) => {\n",
              "        resolve(e.target.result);\n",
              "      };\n",
              "      reader.readAsArrayBuffer(file);\n",
              "    });\n",
              "    // Wait for the data to be ready.\n",
              "    let fileData = yield {\n",
              "      promise: fileDataPromise,\n",
              "      response: {\n",
              "        action: 'continue',\n",
              "      }\n",
              "    };\n",
              "\n",
              "    // Use a chunked sending to avoid message size limits. See b/62115660.\n",
              "    let position = 0;\n",
              "    do {\n",
              "      const length = Math.min(fileData.byteLength - position, MAX_PAYLOAD_SIZE);\n",
              "      const chunk = new Uint8Array(fileData, position, length);\n",
              "      position += length;\n",
              "\n",
              "      const base64 = btoa(String.fromCharCode.apply(null, chunk));\n",
              "      yield {\n",
              "        response: {\n",
              "          action: 'append',\n",
              "          file: file.name,\n",
              "          data: base64,\n",
              "        },\n",
              "      };\n",
              "\n",
              "      let percentDone = fileData.byteLength === 0 ?\n",
              "          100 :\n",
              "          Math.round((position / fileData.byteLength) * 100);\n",
              "      percent.textContent = `${percentDone}% done`;\n",
              "\n",
              "    } while (position < fileData.byteLength);\n",
              "  }\n",
              "\n",
              "  // All done.\n",
              "  yield {\n",
              "    response: {\n",
              "      action: 'complete',\n",
              "    }\n",
              "  };\n",
              "}\n",
              "\n",
              "scope.google = scope.google || {};\n",
              "scope.google.colab = scope.google.colab || {};\n",
              "scope.google.colab._files = {\n",
              "  _uploadFiles,\n",
              "  _uploadFilesContinue,\n",
              "};\n",
              "})(self);\n",
              "</script> "
            ]
          },
          "metadata": {}
        },
        {
          "output_type": "stream",
          "name": "stdout",
          "text": [
            "Saving Food_Inspections.csv to Food_Inspections.csv\n"
          ]
        }
      ]
    },
    {
      "cell_type": "markdown",
      "source": [
        "**Data Loading**"
      ],
      "metadata": {
        "id": "-RS8mNmRhk3j"
      }
    },
    {
      "cell_type": "code",
      "source": [
        "import pandas as pd\n",
        "import numpy as np\n",
        "df = pd.read_csv(\"Food_Inspections.csv\")"
      ],
      "metadata": {
        "id": "YBYA2Iv0CwTl"
      },
      "execution_count": null,
      "outputs": []
    },
    {
      "cell_type": "markdown",
      "source": [
        "**Initial Data Exploration**"
      ],
      "metadata": {
        "id": "ckgf6W-ahtCZ"
      }
    },
    {
      "cell_type": "code",
      "source": [
        "print(\"Shape:\", df.shape)\n",
        "df.head(5)"
      ],
      "metadata": {
        "colab": {
          "base_uri": "https://localhost:8080/",
          "height": 538
        },
        "id": "bt4PWUItC5KM",
        "outputId": "70686711-5002-42f8-a154-5f073c432554"
      },
      "execution_count": null,
      "outputs": [
        {
          "output_type": "stream",
          "name": "stdout",
          "text": [
            "Shape: (45322, 17)\n"
          ]
        },
        {
          "output_type": "execute_result",
          "data": {
            "text/plain": [
              "   Inspection ID                                           DBA Name  \\\n",
              "0        2621996                          A CHILD'S PLACE ACADEMY 2   \n",
              "1        2622009                                    I & J FOOD MART   \n",
              "2        2622011             BROTHERS GROCERY & GENERAL MERCHANDISE   \n",
              "3        2622013            FORESIGHT CHILDREN LEARNING CENTER INC.   \n",
              "4        2621937  LYCEE FRANCAIS DE CHICAGO (THE FRENCH INTERNAT...   \n",
              "\n",
              "                                  AKA Name  License #  \\\n",
              "0                A CHILD'S PLACE ACADEMY 2  2641358.0   \n",
              "1                           ZAYN FOOD MART  2882677.0   \n",
              "2   BROTHERS GROCERY & GENERAL MERCHANDISE  2753856.0   \n",
              "3  FORESIGHT CHILDREN LEARNING CENTER INC.  2397428.0   \n",
              "4                LYCEE FRANCAIS DE CHICAGO  3036835.0   \n",
              "\n",
              "                  Facility Type             Risk            Address     City  \\\n",
              "0  Children's Services Facility    Risk 1 (High)  6113 S PRAIRIE ST  CHICAGO   \n",
              "1                 Grocery Store  Risk 2 (Medium)      524 W 71ST ST  CHICAGO   \n",
              "2                 Grocery Store  Risk 2 (Medium)  5607 S RACINE AVE  CHICAGO   \n",
              "3  Children's Services Facility    Risk 1 (High)  101-115 E 69TH ST  CHICAGO   \n",
              "4                PRIVATE SCHOOL    Risk 1 (High)  1929 W WILSON AVE  CHICAGO   \n",
              "\n",
              "  State      Zip Inspection Date Inspection Type          Results  \\\n",
              "0    IL  60637.0       8/11/2025         License             Pass   \n",
              "1    IL  60621.0       8/11/2025         Canvass  Out of Business   \n",
              "2    IL  60636.0       8/11/2025         Canvass  Out of Business   \n",
              "3    IL  60637.0       8/11/2025         License             Pass   \n",
              "4    IL  60640.0        8/8/2025         License             Pass   \n",
              "\n",
              "                                          Violations   Latitude  Longitude  \\\n",
              "0  53. TOILET FACILITIES: PROPERLY CONSTRUCTED, S...  41.783426 -87.618788   \n",
              "1                                                NaN  41.765410 -87.638197   \n",
              "2                                                NaN  41.792087 -87.654675   \n",
              "3  48. WAREWASHING FACILITIES: INSTALLED, MAINTAI...  41.769108 -87.621707   \n",
              "4  53. TOILET FACILITIES: PROPERLY CONSTRUCTED, S...  41.965013 -87.677281   \n",
              "\n",
              "                                   Location  \n",
              "0   (41.78342569640236, -87.61878801125783)  \n",
              "1   (41.76541045018538, -87.63819690555147)  \n",
              "2   (41.79208735010757, -87.65467511844136)  \n",
              "3  (41.769108080619134, -87.62170737185312)  \n",
              "4   (41.965013404281635, -87.6772808492254)  "
            ],
            "text/html": [
              "\n",
              "  <div id=\"df-c6c356a6-caed-4e44-b5e2-1c6ea849c50b\" class=\"colab-df-container\">\n",
              "    <div>\n",
              "<style scoped>\n",
              "    .dataframe tbody tr th:only-of-type {\n",
              "        vertical-align: middle;\n",
              "    }\n",
              "\n",
              "    .dataframe tbody tr th {\n",
              "        vertical-align: top;\n",
              "    }\n",
              "\n",
              "    .dataframe thead th {\n",
              "        text-align: right;\n",
              "    }\n",
              "</style>\n",
              "<table border=\"1\" class=\"dataframe\">\n",
              "  <thead>\n",
              "    <tr style=\"text-align: right;\">\n",
              "      <th></th>\n",
              "      <th>Inspection ID</th>\n",
              "      <th>DBA Name</th>\n",
              "      <th>AKA Name</th>\n",
              "      <th>License #</th>\n",
              "      <th>Facility Type</th>\n",
              "      <th>Risk</th>\n",
              "      <th>Address</th>\n",
              "      <th>City</th>\n",
              "      <th>State</th>\n",
              "      <th>Zip</th>\n",
              "      <th>Inspection Date</th>\n",
              "      <th>Inspection Type</th>\n",
              "      <th>Results</th>\n",
              "      <th>Violations</th>\n",
              "      <th>Latitude</th>\n",
              "      <th>Longitude</th>\n",
              "      <th>Location</th>\n",
              "    </tr>\n",
              "  </thead>\n",
              "  <tbody>\n",
              "    <tr>\n",
              "      <th>0</th>\n",
              "      <td>2621996</td>\n",
              "      <td>A CHILD'S PLACE ACADEMY 2</td>\n",
              "      <td>A CHILD'S PLACE ACADEMY 2</td>\n",
              "      <td>2641358.0</td>\n",
              "      <td>Children's Services Facility</td>\n",
              "      <td>Risk 1 (High)</td>\n",
              "      <td>6113 S PRAIRIE ST</td>\n",
              "      <td>CHICAGO</td>\n",
              "      <td>IL</td>\n",
              "      <td>60637.0</td>\n",
              "      <td>8/11/2025</td>\n",
              "      <td>License</td>\n",
              "      <td>Pass</td>\n",
              "      <td>53. TOILET FACILITIES: PROPERLY CONSTRUCTED, S...</td>\n",
              "      <td>41.783426</td>\n",
              "      <td>-87.618788</td>\n",
              "      <td>(41.78342569640236, -87.61878801125783)</td>\n",
              "    </tr>\n",
              "    <tr>\n",
              "      <th>1</th>\n",
              "      <td>2622009</td>\n",
              "      <td>I &amp; J FOOD MART</td>\n",
              "      <td>ZAYN FOOD MART</td>\n",
              "      <td>2882677.0</td>\n",
              "      <td>Grocery Store</td>\n",
              "      <td>Risk 2 (Medium)</td>\n",
              "      <td>524 W 71ST ST</td>\n",
              "      <td>CHICAGO</td>\n",
              "      <td>IL</td>\n",
              "      <td>60621.0</td>\n",
              "      <td>8/11/2025</td>\n",
              "      <td>Canvass</td>\n",
              "      <td>Out of Business</td>\n",
              "      <td>NaN</td>\n",
              "      <td>41.765410</td>\n",
              "      <td>-87.638197</td>\n",
              "      <td>(41.76541045018538, -87.63819690555147)</td>\n",
              "    </tr>\n",
              "    <tr>\n",
              "      <th>2</th>\n",
              "      <td>2622011</td>\n",
              "      <td>BROTHERS GROCERY &amp; GENERAL MERCHANDISE</td>\n",
              "      <td>BROTHERS GROCERY &amp; GENERAL MERCHANDISE</td>\n",
              "      <td>2753856.0</td>\n",
              "      <td>Grocery Store</td>\n",
              "      <td>Risk 2 (Medium)</td>\n",
              "      <td>5607 S RACINE AVE</td>\n",
              "      <td>CHICAGO</td>\n",
              "      <td>IL</td>\n",
              "      <td>60636.0</td>\n",
              "      <td>8/11/2025</td>\n",
              "      <td>Canvass</td>\n",
              "      <td>Out of Business</td>\n",
              "      <td>NaN</td>\n",
              "      <td>41.792087</td>\n",
              "      <td>-87.654675</td>\n",
              "      <td>(41.79208735010757, -87.65467511844136)</td>\n",
              "    </tr>\n",
              "    <tr>\n",
              "      <th>3</th>\n",
              "      <td>2622013</td>\n",
              "      <td>FORESIGHT CHILDREN LEARNING CENTER INC.</td>\n",
              "      <td>FORESIGHT CHILDREN LEARNING CENTER INC.</td>\n",
              "      <td>2397428.0</td>\n",
              "      <td>Children's Services Facility</td>\n",
              "      <td>Risk 1 (High)</td>\n",
              "      <td>101-115 E 69TH ST</td>\n",
              "      <td>CHICAGO</td>\n",
              "      <td>IL</td>\n",
              "      <td>60637.0</td>\n",
              "      <td>8/11/2025</td>\n",
              "      <td>License</td>\n",
              "      <td>Pass</td>\n",
              "      <td>48. WAREWASHING FACILITIES: INSTALLED, MAINTAI...</td>\n",
              "      <td>41.769108</td>\n",
              "      <td>-87.621707</td>\n",
              "      <td>(41.769108080619134, -87.62170737185312)</td>\n",
              "    </tr>\n",
              "    <tr>\n",
              "      <th>4</th>\n",
              "      <td>2621937</td>\n",
              "      <td>LYCEE FRANCAIS DE CHICAGO (THE FRENCH INTERNAT...</td>\n",
              "      <td>LYCEE FRANCAIS DE CHICAGO</td>\n",
              "      <td>3036835.0</td>\n",
              "      <td>PRIVATE SCHOOL</td>\n",
              "      <td>Risk 1 (High)</td>\n",
              "      <td>1929 W WILSON AVE</td>\n",
              "      <td>CHICAGO</td>\n",
              "      <td>IL</td>\n",
              "      <td>60640.0</td>\n",
              "      <td>8/8/2025</td>\n",
              "      <td>License</td>\n",
              "      <td>Pass</td>\n",
              "      <td>53. TOILET FACILITIES: PROPERLY CONSTRUCTED, S...</td>\n",
              "      <td>41.965013</td>\n",
              "      <td>-87.677281</td>\n",
              "      <td>(41.965013404281635, -87.6772808492254)</td>\n",
              "    </tr>\n",
              "  </tbody>\n",
              "</table>\n",
              "</div>\n",
              "    <div class=\"colab-df-buttons\">\n",
              "\n",
              "  <div class=\"colab-df-container\">\n",
              "    <button class=\"colab-df-convert\" onclick=\"convertToInteractive('df-c6c356a6-caed-4e44-b5e2-1c6ea849c50b')\"\n",
              "            title=\"Convert this dataframe to an interactive table.\"\n",
              "            style=\"display:none;\">\n",
              "\n",
              "  <svg xmlns=\"http://www.w3.org/2000/svg\" height=\"24px\" viewBox=\"0 -960 960 960\">\n",
              "    <path d=\"M120-120v-720h720v720H120Zm60-500h600v-160H180v160Zm220 220h160v-160H400v160Zm0 220h160v-160H400v160ZM180-400h160v-160H180v160Zm440 0h160v-160H620v160ZM180-180h160v-160H180v160Zm440 0h160v-160H620v160Z\"/>\n",
              "  </svg>\n",
              "    </button>\n",
              "\n",
              "  <style>\n",
              "    .colab-df-container {\n",
              "      display:flex;\n",
              "      gap: 12px;\n",
              "    }\n",
              "\n",
              "    .colab-df-convert {\n",
              "      background-color: #E8F0FE;\n",
              "      border: none;\n",
              "      border-radius: 50%;\n",
              "      cursor: pointer;\n",
              "      display: none;\n",
              "      fill: #1967D2;\n",
              "      height: 32px;\n",
              "      padding: 0 0 0 0;\n",
              "      width: 32px;\n",
              "    }\n",
              "\n",
              "    .colab-df-convert:hover {\n",
              "      background-color: #E2EBFA;\n",
              "      box-shadow: 0px 1px 2px rgba(60, 64, 67, 0.3), 0px 1px 3px 1px rgba(60, 64, 67, 0.15);\n",
              "      fill: #174EA6;\n",
              "    }\n",
              "\n",
              "    .colab-df-buttons div {\n",
              "      margin-bottom: 4px;\n",
              "    }\n",
              "\n",
              "    [theme=dark] .colab-df-convert {\n",
              "      background-color: #3B4455;\n",
              "      fill: #D2E3FC;\n",
              "    }\n",
              "\n",
              "    [theme=dark] .colab-df-convert:hover {\n",
              "      background-color: #434B5C;\n",
              "      box-shadow: 0px 1px 3px 1px rgba(0, 0, 0, 0.15);\n",
              "      filter: drop-shadow(0px 1px 2px rgba(0, 0, 0, 0.3));\n",
              "      fill: #FFFFFF;\n",
              "    }\n",
              "  </style>\n",
              "\n",
              "    <script>\n",
              "      const buttonEl =\n",
              "        document.querySelector('#df-c6c356a6-caed-4e44-b5e2-1c6ea849c50b button.colab-df-convert');\n",
              "      buttonEl.style.display =\n",
              "        google.colab.kernel.accessAllowed ? 'block' : 'none';\n",
              "\n",
              "      async function convertToInteractive(key) {\n",
              "        const element = document.querySelector('#df-c6c356a6-caed-4e44-b5e2-1c6ea849c50b');\n",
              "        const dataTable =\n",
              "          await google.colab.kernel.invokeFunction('convertToInteractive',\n",
              "                                                    [key], {});\n",
              "        if (!dataTable) return;\n",
              "\n",
              "        const docLinkHtml = 'Like what you see? Visit the ' +\n",
              "          '<a target=\"_blank\" href=https://colab.research.google.com/notebooks/data_table.ipynb>data table notebook</a>'\n",
              "          + ' to learn more about interactive tables.';\n",
              "        element.innerHTML = '';\n",
              "        dataTable['output_type'] = 'display_data';\n",
              "        await google.colab.output.renderOutput(dataTable, element);\n",
              "        const docLink = document.createElement('div');\n",
              "        docLink.innerHTML = docLinkHtml;\n",
              "        element.appendChild(docLink);\n",
              "      }\n",
              "    </script>\n",
              "  </div>\n",
              "\n",
              "\n",
              "    <div id=\"df-1d3b8557-dc95-4b41-aaeb-dd1d73053c47\">\n",
              "      <button class=\"colab-df-quickchart\" onclick=\"quickchart('df-1d3b8557-dc95-4b41-aaeb-dd1d73053c47')\"\n",
              "                title=\"Suggest charts\"\n",
              "                style=\"display:none;\">\n",
              "\n",
              "<svg xmlns=\"http://www.w3.org/2000/svg\" height=\"24px\"viewBox=\"0 0 24 24\"\n",
              "     width=\"24px\">\n",
              "    <g>\n",
              "        <path d=\"M19 3H5c-1.1 0-2 .9-2 2v14c0 1.1.9 2 2 2h14c1.1 0 2-.9 2-2V5c0-1.1-.9-2-2-2zM9 17H7v-7h2v7zm4 0h-2V7h2v10zm4 0h-2v-4h2v4z\"/>\n",
              "    </g>\n",
              "</svg>\n",
              "      </button>\n",
              "\n",
              "<style>\n",
              "  .colab-df-quickchart {\n",
              "      --bg-color: #E8F0FE;\n",
              "      --fill-color: #1967D2;\n",
              "      --hover-bg-color: #E2EBFA;\n",
              "      --hover-fill-color: #174EA6;\n",
              "      --disabled-fill-color: #AAA;\n",
              "      --disabled-bg-color: #DDD;\n",
              "  }\n",
              "\n",
              "  [theme=dark] .colab-df-quickchart {\n",
              "      --bg-color: #3B4455;\n",
              "      --fill-color: #D2E3FC;\n",
              "      --hover-bg-color: #434B5C;\n",
              "      --hover-fill-color: #FFFFFF;\n",
              "      --disabled-bg-color: #3B4455;\n",
              "      --disabled-fill-color: #666;\n",
              "  }\n",
              "\n",
              "  .colab-df-quickchart {\n",
              "    background-color: var(--bg-color);\n",
              "    border: none;\n",
              "    border-radius: 50%;\n",
              "    cursor: pointer;\n",
              "    display: none;\n",
              "    fill: var(--fill-color);\n",
              "    height: 32px;\n",
              "    padding: 0;\n",
              "    width: 32px;\n",
              "  }\n",
              "\n",
              "  .colab-df-quickchart:hover {\n",
              "    background-color: var(--hover-bg-color);\n",
              "    box-shadow: 0 1px 2px rgba(60, 64, 67, 0.3), 0 1px 3px 1px rgba(60, 64, 67, 0.15);\n",
              "    fill: var(--button-hover-fill-color);\n",
              "  }\n",
              "\n",
              "  .colab-df-quickchart-complete:disabled,\n",
              "  .colab-df-quickchart-complete:disabled:hover {\n",
              "    background-color: var(--disabled-bg-color);\n",
              "    fill: var(--disabled-fill-color);\n",
              "    box-shadow: none;\n",
              "  }\n",
              "\n",
              "  .colab-df-spinner {\n",
              "    border: 2px solid var(--fill-color);\n",
              "    border-color: transparent;\n",
              "    border-bottom-color: var(--fill-color);\n",
              "    animation:\n",
              "      spin 1s steps(1) infinite;\n",
              "  }\n",
              "\n",
              "  @keyframes spin {\n",
              "    0% {\n",
              "      border-color: transparent;\n",
              "      border-bottom-color: var(--fill-color);\n",
              "      border-left-color: var(--fill-color);\n",
              "    }\n",
              "    20% {\n",
              "      border-color: transparent;\n",
              "      border-left-color: var(--fill-color);\n",
              "      border-top-color: var(--fill-color);\n",
              "    }\n",
              "    30% {\n",
              "      border-color: transparent;\n",
              "      border-left-color: var(--fill-color);\n",
              "      border-top-color: var(--fill-color);\n",
              "      border-right-color: var(--fill-color);\n",
              "    }\n",
              "    40% {\n",
              "      border-color: transparent;\n",
              "      border-right-color: var(--fill-color);\n",
              "      border-top-color: var(--fill-color);\n",
              "    }\n",
              "    60% {\n",
              "      border-color: transparent;\n",
              "      border-right-color: var(--fill-color);\n",
              "    }\n",
              "    80% {\n",
              "      border-color: transparent;\n",
              "      border-right-color: var(--fill-color);\n",
              "      border-bottom-color: var(--fill-color);\n",
              "    }\n",
              "    90% {\n",
              "      border-color: transparent;\n",
              "      border-bottom-color: var(--fill-color);\n",
              "    }\n",
              "  }\n",
              "</style>\n",
              "\n",
              "      <script>\n",
              "        async function quickchart(key) {\n",
              "          const quickchartButtonEl =\n",
              "            document.querySelector('#' + key + ' button');\n",
              "          quickchartButtonEl.disabled = true;  // To prevent multiple clicks.\n",
              "          quickchartButtonEl.classList.add('colab-df-spinner');\n",
              "          try {\n",
              "            const charts = await google.colab.kernel.invokeFunction(\n",
              "                'suggestCharts', [key], {});\n",
              "          } catch (error) {\n",
              "            console.error('Error during call to suggestCharts:', error);\n",
              "          }\n",
              "          quickchartButtonEl.classList.remove('colab-df-spinner');\n",
              "          quickchartButtonEl.classList.add('colab-df-quickchart-complete');\n",
              "        }\n",
              "        (() => {\n",
              "          let quickchartButtonEl =\n",
              "            document.querySelector('#df-1d3b8557-dc95-4b41-aaeb-dd1d73053c47 button');\n",
              "          quickchartButtonEl.style.display =\n",
              "            google.colab.kernel.accessAllowed ? 'block' : 'none';\n",
              "        })();\n",
              "      </script>\n",
              "    </div>\n",
              "\n",
              "    </div>\n",
              "  </div>\n"
            ],
            "application/vnd.google.colaboratory.intrinsic+json": {
              "type": "dataframe",
              "variable_name": "df",
              "summary": "{\n  \"name\": \"df\",\n  \"rows\": 45322,\n  \"fields\": [\n    {\n      \"column\": \"Inspection ID\",\n      \"properties\": {\n        \"dtype\": \"number\",\n        \"std\": 14550,\n        \"min\": 2571303,\n        \"max\": 2622013,\n        \"num_unique_values\": 45322,\n        \"samples\": [\n          2585589,\n          2572185,\n          2571321\n        ],\n        \"semantic_type\": \"\",\n        \"description\": \"\"\n      }\n    },\n    {\n      \"column\": \"DBA Name\",\n      \"properties\": {\n        \"dtype\": \"category\",\n        \"num_unique_values\": 12938,\n        \"samples\": [\n          \"MICHELLA TERRACE\",\n          \"FANNIE EMMANUEL APARTMENTS\",\n          \"TOMMY'S ON GRAND\"\n        ],\n        \"semantic_type\": \"\",\n        \"description\": \"\"\n      }\n    },\n    {\n      \"column\": \"AKA Name\",\n      \"properties\": {\n        \"dtype\": \"category\",\n        \"num_unique_values\": 12486,\n        \"samples\": [\n          \"THE GREAT AMERICAN BAGEL (T3 K2)\",\n          \"TAS\",\n          \"K-BUENA SUPER MARKET INC.\"\n        ],\n        \"semantic_type\": \"\",\n        \"description\": \"\"\n      }\n    },\n    {\n      \"column\": \"License #\",\n      \"properties\": {\n        \"dtype\": \"number\",\n        \"std\": 922784.2330924533,\n        \"min\": 0.0,\n        \"max\": 4080789.0,\n        \"num_unique_values\": 16042,\n        \"samples\": [\n          2522831.0,\n          61208.0,\n          2934461.0\n        ],\n        \"semantic_type\": \"\",\n        \"description\": \"\"\n      }\n    },\n    {\n      \"column\": \"Facility Type\",\n      \"properties\": {\n        \"dtype\": \"category\",\n        \"num_unique_values\": 190,\n        \"samples\": [\n          \"GROCERY/GAS STATION\",\n          \"Other\",\n          \"VENDING COMMISSARY\"\n        ],\n        \"semantic_type\": \"\",\n        \"description\": \"\"\n      }\n    },\n    {\n      \"column\": \"Risk\",\n      \"properties\": {\n        \"dtype\": \"category\",\n        \"num_unique_values\": 4,\n        \"samples\": [\n          \"Risk 2 (Medium)\",\n          \"All\",\n          \"Risk 1 (High)\"\n        ],\n        \"semantic_type\": \"\",\n        \"description\": \"\"\n      }\n    },\n    {\n      \"column\": \"Address\",\n      \"properties\": {\n        \"dtype\": \"category\",\n        \"num_unique_values\": 18611,\n        \"samples\": [\n          \"3137 W 71ST ST \",\n          \"1 N HALSTED ST\",\n          \"2740 W 111TH ST\"\n        ],\n        \"semantic_type\": \"\",\n        \"description\": \"\"\n      }\n    },\n    {\n      \"column\": \"City\",\n      \"properties\": {\n        \"dtype\": \"category\",\n        \"num_unique_values\": 30,\n        \"samples\": [\n          \"PLAINFIELD\",\n          \"312CHICAGO\",\n          \"EVERGREEN\"\n        ],\n        \"semantic_type\": \"\",\n        \"description\": \"\"\n      }\n    },\n    {\n      \"column\": \"State\",\n      \"properties\": {\n        \"dtype\": \"category\",\n        \"num_unique_values\": 5,\n        \"samples\": [\n          \"CA\",\n          \"CO\",\n          \"IN\"\n        ],\n        \"semantic_type\": \"\",\n        \"description\": \"\"\n      }\n    },\n    {\n      \"column\": \"Zip\",\n      \"properties\": {\n        \"dtype\": \"number\",\n        \"std\": 231.29870131038487,\n        \"min\": 46322.0,\n        \"max\": 91706.0,\n        \"num_unique_values\": 80,\n        \"samples\": [\n          60618.0,\n          60637.0,\n          60628.0\n        ],\n        \"semantic_type\": \"\",\n        \"description\": \"\"\n      }\n    },\n    {\n      \"column\": \"Inspection Date\",\n      \"properties\": {\n        \"dtype\": \"object\",\n        \"num_unique_values\": 618,\n        \"samples\": [\n          \"5/30/2025\",\n          \"4/6/2023\",\n          \"4/14/2025\"\n        ],\n        \"semantic_type\": \"\",\n        \"description\": \"\"\n      }\n    },\n    {\n      \"column\": \"Inspection Type\",\n      \"properties\": {\n        \"dtype\": \"category\",\n        \"num_unique_values\": 14,\n        \"samples\": [\n          \"Recent Inspection\",\n          \"Consultation\",\n          \"License\"\n        ],\n        \"semantic_type\": \"\",\n        \"description\": \"\"\n      }\n    },\n    {\n      \"column\": \"Results\",\n      \"properties\": {\n        \"dtype\": \"category\",\n        \"num_unique_values\": 7,\n        \"samples\": [\n          \"Pass\",\n          \"Out of Business\",\n          \"Not Ready\"\n        ],\n        \"semantic_type\": \"\",\n        \"description\": \"\"\n      }\n    },\n    {\n      \"column\": \"Violations\",\n      \"properties\": {\n        \"dtype\": \"string\",\n        \"num_unique_values\": 30977,\n        \"samples\": [\n          \"10. ADEQUATE HANDWASHING SINKS PROPERLY SUPPLIED AND ACCESSIBLE - Comments: No hand soap provide at employee's restroom hand wash sink, instructed to provide. Priority foundation violation 7-38-030(c) | 23. PROPER DATE MARKING AND DISPOSITION - Comments: Food is prepared on site and held for more than 24 hours without discard date. Found  a container 3 lbs of cooked duck and 6 lbs of cooked chicken with no use by date. instructed manager to date all cooked food items. priority foundation violation 7-38-005. | 38. INSECTS, RODENTS, & ANIMALS NOT PRESENT | 49. NON-FOOD/FOOD CONTACT SURFACES CLEAN - Comments: Shelves and counters not clean through out kitchen, food debris and grease build-up. Instructed manager to clean and maintain.\",\n          \"49. NON-FOOD/FOOD CONTACT SURFACES CLEAN - Comments: 4-601.11(C) OBSERVED THE INTERIOR OF THE FRYERS WITH ACCUMULATED DEBRIS. INSTRUCTED TO CLEAN. | 51. PLUMBING INSTALLED; PROPER BACKFLOW DEVICES - Comments: 5-205.15 OBSERVED A STEADY MINOR LEAK AT THE FRESH WATER TANK. INSTRUCTED TO REPAIR. | 55. PHYSICAL FACILITIES INSTALLED, MAINTAINED & CLEAN - Comments: 6-501.12 OBSERVED ACCUMULATED GREASE DEBRIS ON THE SCREEN LOCATED ON THE CEILING AND A BLACK SUBSTANCE ACCUMULATED ON THE NAIL SCRUB THAT IS BY THE HAND WASHING SINK. INSTRUCTED TO CLEAN OR REPLACE.\",\n          \"35. APPROVED THAWING METHODS USED - Comments: IMPROPER THAWING OF FROZEN CHICKEN ON COUNTERTOP. INSTD TO THAW PROPERLY (I.E, UNDER COLD RUNNING WATER, UNDER REFRIGERATION, PART OF COOKING PROCESS, ETC). | 44. UTENSILS, EQUIPMENT & LINENS: PROPERLY STORED, DRIED, & HANDLED - Comments: POTS ON FLOOR. INSTD TO ELEVATE AND INVERT ALL MULTI USE EQUIPMENT.  | 51. PLUMBING INSTALLED; PROPER BACKFLOW DEVICES - Comments: HANDWASH SINK FAUCET CONSTANTLY LEAKING. UTILITY SINK FAUCET LEAKING INSTD TO REPAIR SAME AND MAINTAIN FREE OF LEAKS. 3-COMPARTMENT SINK SLOW DRAINING. INSTD TO REPAIR AND HAVE PROPERLY DRAINING | 53. TOILET FACILITIES: PROPERLY CONSTRUCTED, SUPPLIED, & CLEANED - Comments: MISSING COVER FOR TRASH RECEPTACLE IN TOILET ROOM. INSTD TO PROVIDE COVER AND MAINTAIN\"\n        ],\n        \"semantic_type\": \"\",\n        \"description\": \"\"\n      }\n    },\n    {\n      \"column\": \"Latitude\",\n      \"properties\": {\n        \"dtype\": \"number\",\n        \"std\": 0.08095604102938703,\n        \"min\": 41.64467013,\n        \"max\": 42.02106425,\n        \"num_unique_values\": 11374,\n        \"samples\": [\n          41.93799979,\n          41.84804402,\n          41.70074439\n        ],\n        \"semantic_type\": \"\",\n        \"description\": \"\"\n      }\n    },\n    {\n      \"column\": \"Longitude\",\n      \"properties\": {\n        \"dtype\": \"number\",\n        \"std\": 0.059403088685801735,\n        \"min\": -87.90687413,\n        \"max\": -87.52509414,\n        \"num_unique_values\": 11373,\n        \"samples\": [\n          -87.64418473,\n          -87.68293718,\n          -87.64278839\n        ],\n        \"semantic_type\": \"\",\n        \"description\": \"\"\n      }\n    },\n    {\n      \"column\": \"Location\",\n      \"properties\": {\n        \"dtype\": \"category\",\n        \"num_unique_values\": 11377,\n        \"samples\": [\n          \"(41.93799979314034, -87.64418473186258)\",\n          \"(41.93947287194346, -87.70278709263836)\",\n          \"(41.89272241307692, -87.6193937448626)\"\n        ],\n        \"semantic_type\": \"\",\n        \"description\": \"\"\n      }\n    }\n  ]\n}"
            }
          },
          "metadata": {},
          "execution_count": 7
        }
      ]
    },
    {
      "cell_type": "markdown",
      "source": [
        "**Renaming Attributes**"
      ],
      "metadata": {
        "id": "y5JrqF4vgvHP"
      }
    },
    {
      "cell_type": "code",
      "source": [
        "df.rename(columns={\n",
        "    'DBA Name': 'Business Name',\n",
        "    'AKA Name': 'Alternate Name'\n",
        "}, inplace=True)\n",
        "\n",
        "df.head()\n"
      ],
      "metadata": {
        "colab": {
          "base_uri": "https://localhost:8080/",
          "height": 521
        },
        "id": "thaFQLB5DwyR",
        "outputId": "97bafc9a-3259-4cb3-f725-699b5360e3d4"
      },
      "execution_count": null,
      "outputs": [
        {
          "output_type": "execute_result",
          "data": {
            "text/plain": [
              "   Inspection ID                                      Business Name  \\\n",
              "0        2621996                          A CHILD'S PLACE ACADEMY 2   \n",
              "1        2622009                                    I & J FOOD MART   \n",
              "2        2622011             BROTHERS GROCERY & GENERAL MERCHANDISE   \n",
              "3        2622013            FORESIGHT CHILDREN LEARNING CENTER INC.   \n",
              "4        2621937  LYCEE FRANCAIS DE CHICAGO (THE FRENCH INTERNAT...   \n",
              "\n",
              "                            Alternate Name  License #  \\\n",
              "0                A CHILD'S PLACE ACADEMY 2  2641358.0   \n",
              "1                           ZAYN FOOD MART  2882677.0   \n",
              "2   BROTHERS GROCERY & GENERAL MERCHANDISE  2753856.0   \n",
              "3  FORESIGHT CHILDREN LEARNING CENTER INC.  2397428.0   \n",
              "4                LYCEE FRANCAIS DE CHICAGO  3036835.0   \n",
              "\n",
              "                  Facility Type             Risk            Address     City  \\\n",
              "0  Children's Services Facility    Risk 1 (High)  6113 S PRAIRIE ST  CHICAGO   \n",
              "1                 Grocery Store  Risk 2 (Medium)      524 W 71ST ST  CHICAGO   \n",
              "2                 Grocery Store  Risk 2 (Medium)  5607 S RACINE AVE  CHICAGO   \n",
              "3  Children's Services Facility    Risk 1 (High)  101-115 E 69TH ST  CHICAGO   \n",
              "4                PRIVATE SCHOOL    Risk 1 (High)  1929 W WILSON AVE  CHICAGO   \n",
              "\n",
              "  State      Zip Inspection Date Inspection Type          Results  \\\n",
              "0    IL  60637.0       8/11/2025         License             Pass   \n",
              "1    IL  60621.0       8/11/2025         Canvass  Out of Business   \n",
              "2    IL  60636.0       8/11/2025         Canvass  Out of Business   \n",
              "3    IL  60637.0       8/11/2025         License             Pass   \n",
              "4    IL  60640.0        8/8/2025         License             Pass   \n",
              "\n",
              "                                          Violations   Latitude  Longitude  \\\n",
              "0  53. TOILET FACILITIES: PROPERLY CONSTRUCTED, S...  41.783426 -87.618788   \n",
              "1                                                NaN  41.765410 -87.638197   \n",
              "2                                                NaN  41.792087 -87.654675   \n",
              "3  48. WAREWASHING FACILITIES: INSTALLED, MAINTAI...  41.769108 -87.621707   \n",
              "4  53. TOILET FACILITIES: PROPERLY CONSTRUCTED, S...  41.965013 -87.677281   \n",
              "\n",
              "                                   Location  \n",
              "0   (41.78342569640236, -87.61878801125783)  \n",
              "1   (41.76541045018538, -87.63819690555147)  \n",
              "2   (41.79208735010757, -87.65467511844136)  \n",
              "3  (41.769108080619134, -87.62170737185312)  \n",
              "4   (41.965013404281635, -87.6772808492254)  "
            ],
            "text/html": [
              "\n",
              "  <div id=\"df-fd9c4766-10e7-4376-bbcc-f31214288d41\" class=\"colab-df-container\">\n",
              "    <div>\n",
              "<style scoped>\n",
              "    .dataframe tbody tr th:only-of-type {\n",
              "        vertical-align: middle;\n",
              "    }\n",
              "\n",
              "    .dataframe tbody tr th {\n",
              "        vertical-align: top;\n",
              "    }\n",
              "\n",
              "    .dataframe thead th {\n",
              "        text-align: right;\n",
              "    }\n",
              "</style>\n",
              "<table border=\"1\" class=\"dataframe\">\n",
              "  <thead>\n",
              "    <tr style=\"text-align: right;\">\n",
              "      <th></th>\n",
              "      <th>Inspection ID</th>\n",
              "      <th>Business Name</th>\n",
              "      <th>Alternate Name</th>\n",
              "      <th>License #</th>\n",
              "      <th>Facility Type</th>\n",
              "      <th>Risk</th>\n",
              "      <th>Address</th>\n",
              "      <th>City</th>\n",
              "      <th>State</th>\n",
              "      <th>Zip</th>\n",
              "      <th>Inspection Date</th>\n",
              "      <th>Inspection Type</th>\n",
              "      <th>Results</th>\n",
              "      <th>Violations</th>\n",
              "      <th>Latitude</th>\n",
              "      <th>Longitude</th>\n",
              "      <th>Location</th>\n",
              "    </tr>\n",
              "  </thead>\n",
              "  <tbody>\n",
              "    <tr>\n",
              "      <th>0</th>\n",
              "      <td>2621996</td>\n",
              "      <td>A CHILD'S PLACE ACADEMY 2</td>\n",
              "      <td>A CHILD'S PLACE ACADEMY 2</td>\n",
              "      <td>2641358.0</td>\n",
              "      <td>Children's Services Facility</td>\n",
              "      <td>Risk 1 (High)</td>\n",
              "      <td>6113 S PRAIRIE ST</td>\n",
              "      <td>CHICAGO</td>\n",
              "      <td>IL</td>\n",
              "      <td>60637.0</td>\n",
              "      <td>8/11/2025</td>\n",
              "      <td>License</td>\n",
              "      <td>Pass</td>\n",
              "      <td>53. TOILET FACILITIES: PROPERLY CONSTRUCTED, S...</td>\n",
              "      <td>41.783426</td>\n",
              "      <td>-87.618788</td>\n",
              "      <td>(41.78342569640236, -87.61878801125783)</td>\n",
              "    </tr>\n",
              "    <tr>\n",
              "      <th>1</th>\n",
              "      <td>2622009</td>\n",
              "      <td>I &amp; J FOOD MART</td>\n",
              "      <td>ZAYN FOOD MART</td>\n",
              "      <td>2882677.0</td>\n",
              "      <td>Grocery Store</td>\n",
              "      <td>Risk 2 (Medium)</td>\n",
              "      <td>524 W 71ST ST</td>\n",
              "      <td>CHICAGO</td>\n",
              "      <td>IL</td>\n",
              "      <td>60621.0</td>\n",
              "      <td>8/11/2025</td>\n",
              "      <td>Canvass</td>\n",
              "      <td>Out of Business</td>\n",
              "      <td>NaN</td>\n",
              "      <td>41.765410</td>\n",
              "      <td>-87.638197</td>\n",
              "      <td>(41.76541045018538, -87.63819690555147)</td>\n",
              "    </tr>\n",
              "    <tr>\n",
              "      <th>2</th>\n",
              "      <td>2622011</td>\n",
              "      <td>BROTHERS GROCERY &amp; GENERAL MERCHANDISE</td>\n",
              "      <td>BROTHERS GROCERY &amp; GENERAL MERCHANDISE</td>\n",
              "      <td>2753856.0</td>\n",
              "      <td>Grocery Store</td>\n",
              "      <td>Risk 2 (Medium)</td>\n",
              "      <td>5607 S RACINE AVE</td>\n",
              "      <td>CHICAGO</td>\n",
              "      <td>IL</td>\n",
              "      <td>60636.0</td>\n",
              "      <td>8/11/2025</td>\n",
              "      <td>Canvass</td>\n",
              "      <td>Out of Business</td>\n",
              "      <td>NaN</td>\n",
              "      <td>41.792087</td>\n",
              "      <td>-87.654675</td>\n",
              "      <td>(41.79208735010757, -87.65467511844136)</td>\n",
              "    </tr>\n",
              "    <tr>\n",
              "      <th>3</th>\n",
              "      <td>2622013</td>\n",
              "      <td>FORESIGHT CHILDREN LEARNING CENTER INC.</td>\n",
              "      <td>FORESIGHT CHILDREN LEARNING CENTER INC.</td>\n",
              "      <td>2397428.0</td>\n",
              "      <td>Children's Services Facility</td>\n",
              "      <td>Risk 1 (High)</td>\n",
              "      <td>101-115 E 69TH ST</td>\n",
              "      <td>CHICAGO</td>\n",
              "      <td>IL</td>\n",
              "      <td>60637.0</td>\n",
              "      <td>8/11/2025</td>\n",
              "      <td>License</td>\n",
              "      <td>Pass</td>\n",
              "      <td>48. WAREWASHING FACILITIES: INSTALLED, MAINTAI...</td>\n",
              "      <td>41.769108</td>\n",
              "      <td>-87.621707</td>\n",
              "      <td>(41.769108080619134, -87.62170737185312)</td>\n",
              "    </tr>\n",
              "    <tr>\n",
              "      <th>4</th>\n",
              "      <td>2621937</td>\n",
              "      <td>LYCEE FRANCAIS DE CHICAGO (THE FRENCH INTERNAT...</td>\n",
              "      <td>LYCEE FRANCAIS DE CHICAGO</td>\n",
              "      <td>3036835.0</td>\n",
              "      <td>PRIVATE SCHOOL</td>\n",
              "      <td>Risk 1 (High)</td>\n",
              "      <td>1929 W WILSON AVE</td>\n",
              "      <td>CHICAGO</td>\n",
              "      <td>IL</td>\n",
              "      <td>60640.0</td>\n",
              "      <td>8/8/2025</td>\n",
              "      <td>License</td>\n",
              "      <td>Pass</td>\n",
              "      <td>53. TOILET FACILITIES: PROPERLY CONSTRUCTED, S...</td>\n",
              "      <td>41.965013</td>\n",
              "      <td>-87.677281</td>\n",
              "      <td>(41.965013404281635, -87.6772808492254)</td>\n",
              "    </tr>\n",
              "  </tbody>\n",
              "</table>\n",
              "</div>\n",
              "    <div class=\"colab-df-buttons\">\n",
              "\n",
              "  <div class=\"colab-df-container\">\n",
              "    <button class=\"colab-df-convert\" onclick=\"convertToInteractive('df-fd9c4766-10e7-4376-bbcc-f31214288d41')\"\n",
              "            title=\"Convert this dataframe to an interactive table.\"\n",
              "            style=\"display:none;\">\n",
              "\n",
              "  <svg xmlns=\"http://www.w3.org/2000/svg\" height=\"24px\" viewBox=\"0 -960 960 960\">\n",
              "    <path d=\"M120-120v-720h720v720H120Zm60-500h600v-160H180v160Zm220 220h160v-160H400v160Zm0 220h160v-160H400v160ZM180-400h160v-160H180v160Zm440 0h160v-160H620v160ZM180-180h160v-160H180v160Zm440 0h160v-160H620v160Z\"/>\n",
              "  </svg>\n",
              "    </button>\n",
              "\n",
              "  <style>\n",
              "    .colab-df-container {\n",
              "      display:flex;\n",
              "      gap: 12px;\n",
              "    }\n",
              "\n",
              "    .colab-df-convert {\n",
              "      background-color: #E8F0FE;\n",
              "      border: none;\n",
              "      border-radius: 50%;\n",
              "      cursor: pointer;\n",
              "      display: none;\n",
              "      fill: #1967D2;\n",
              "      height: 32px;\n",
              "      padding: 0 0 0 0;\n",
              "      width: 32px;\n",
              "    }\n",
              "\n",
              "    .colab-df-convert:hover {\n",
              "      background-color: #E2EBFA;\n",
              "      box-shadow: 0px 1px 2px rgba(60, 64, 67, 0.3), 0px 1px 3px 1px rgba(60, 64, 67, 0.15);\n",
              "      fill: #174EA6;\n",
              "    }\n",
              "\n",
              "    .colab-df-buttons div {\n",
              "      margin-bottom: 4px;\n",
              "    }\n",
              "\n",
              "    [theme=dark] .colab-df-convert {\n",
              "      background-color: #3B4455;\n",
              "      fill: #D2E3FC;\n",
              "    }\n",
              "\n",
              "    [theme=dark] .colab-df-convert:hover {\n",
              "      background-color: #434B5C;\n",
              "      box-shadow: 0px 1px 3px 1px rgba(0, 0, 0, 0.15);\n",
              "      filter: drop-shadow(0px 1px 2px rgba(0, 0, 0, 0.3));\n",
              "      fill: #FFFFFF;\n",
              "    }\n",
              "  </style>\n",
              "\n",
              "    <script>\n",
              "      const buttonEl =\n",
              "        document.querySelector('#df-fd9c4766-10e7-4376-bbcc-f31214288d41 button.colab-df-convert');\n",
              "      buttonEl.style.display =\n",
              "        google.colab.kernel.accessAllowed ? 'block' : 'none';\n",
              "\n",
              "      async function convertToInteractive(key) {\n",
              "        const element = document.querySelector('#df-fd9c4766-10e7-4376-bbcc-f31214288d41');\n",
              "        const dataTable =\n",
              "          await google.colab.kernel.invokeFunction('convertToInteractive',\n",
              "                                                    [key], {});\n",
              "        if (!dataTable) return;\n",
              "\n",
              "        const docLinkHtml = 'Like what you see? Visit the ' +\n",
              "          '<a target=\"_blank\" href=https://colab.research.google.com/notebooks/data_table.ipynb>data table notebook</a>'\n",
              "          + ' to learn more about interactive tables.';\n",
              "        element.innerHTML = '';\n",
              "        dataTable['output_type'] = 'display_data';\n",
              "        await google.colab.output.renderOutput(dataTable, element);\n",
              "        const docLink = document.createElement('div');\n",
              "        docLink.innerHTML = docLinkHtml;\n",
              "        element.appendChild(docLink);\n",
              "      }\n",
              "    </script>\n",
              "  </div>\n",
              "\n",
              "\n",
              "    <div id=\"df-c0c67597-dda4-4daa-8017-657fe62baf6d\">\n",
              "      <button class=\"colab-df-quickchart\" onclick=\"quickchart('df-c0c67597-dda4-4daa-8017-657fe62baf6d')\"\n",
              "                title=\"Suggest charts\"\n",
              "                style=\"display:none;\">\n",
              "\n",
              "<svg xmlns=\"http://www.w3.org/2000/svg\" height=\"24px\"viewBox=\"0 0 24 24\"\n",
              "     width=\"24px\">\n",
              "    <g>\n",
              "        <path d=\"M19 3H5c-1.1 0-2 .9-2 2v14c0 1.1.9 2 2 2h14c1.1 0 2-.9 2-2V5c0-1.1-.9-2-2-2zM9 17H7v-7h2v7zm4 0h-2V7h2v10zm4 0h-2v-4h2v4z\"/>\n",
              "    </g>\n",
              "</svg>\n",
              "      </button>\n",
              "\n",
              "<style>\n",
              "  .colab-df-quickchart {\n",
              "      --bg-color: #E8F0FE;\n",
              "      --fill-color: #1967D2;\n",
              "      --hover-bg-color: #E2EBFA;\n",
              "      --hover-fill-color: #174EA6;\n",
              "      --disabled-fill-color: #AAA;\n",
              "      --disabled-bg-color: #DDD;\n",
              "  }\n",
              "\n",
              "  [theme=dark] .colab-df-quickchart {\n",
              "      --bg-color: #3B4455;\n",
              "      --fill-color: #D2E3FC;\n",
              "      --hover-bg-color: #434B5C;\n",
              "      --hover-fill-color: #FFFFFF;\n",
              "      --disabled-bg-color: #3B4455;\n",
              "      --disabled-fill-color: #666;\n",
              "  }\n",
              "\n",
              "  .colab-df-quickchart {\n",
              "    background-color: var(--bg-color);\n",
              "    border: none;\n",
              "    border-radius: 50%;\n",
              "    cursor: pointer;\n",
              "    display: none;\n",
              "    fill: var(--fill-color);\n",
              "    height: 32px;\n",
              "    padding: 0;\n",
              "    width: 32px;\n",
              "  }\n",
              "\n",
              "  .colab-df-quickchart:hover {\n",
              "    background-color: var(--hover-bg-color);\n",
              "    box-shadow: 0 1px 2px rgba(60, 64, 67, 0.3), 0 1px 3px 1px rgba(60, 64, 67, 0.15);\n",
              "    fill: var(--button-hover-fill-color);\n",
              "  }\n",
              "\n",
              "  .colab-df-quickchart-complete:disabled,\n",
              "  .colab-df-quickchart-complete:disabled:hover {\n",
              "    background-color: var(--disabled-bg-color);\n",
              "    fill: var(--disabled-fill-color);\n",
              "    box-shadow: none;\n",
              "  }\n",
              "\n",
              "  .colab-df-spinner {\n",
              "    border: 2px solid var(--fill-color);\n",
              "    border-color: transparent;\n",
              "    border-bottom-color: var(--fill-color);\n",
              "    animation:\n",
              "      spin 1s steps(1) infinite;\n",
              "  }\n",
              "\n",
              "  @keyframes spin {\n",
              "    0% {\n",
              "      border-color: transparent;\n",
              "      border-bottom-color: var(--fill-color);\n",
              "      border-left-color: var(--fill-color);\n",
              "    }\n",
              "    20% {\n",
              "      border-color: transparent;\n",
              "      border-left-color: var(--fill-color);\n",
              "      border-top-color: var(--fill-color);\n",
              "    }\n",
              "    30% {\n",
              "      border-color: transparent;\n",
              "      border-left-color: var(--fill-color);\n",
              "      border-top-color: var(--fill-color);\n",
              "      border-right-color: var(--fill-color);\n",
              "    }\n",
              "    40% {\n",
              "      border-color: transparent;\n",
              "      border-right-color: var(--fill-color);\n",
              "      border-top-color: var(--fill-color);\n",
              "    }\n",
              "    60% {\n",
              "      border-color: transparent;\n",
              "      border-right-color: var(--fill-color);\n",
              "    }\n",
              "    80% {\n",
              "      border-color: transparent;\n",
              "      border-right-color: var(--fill-color);\n",
              "      border-bottom-color: var(--fill-color);\n",
              "    }\n",
              "    90% {\n",
              "      border-color: transparent;\n",
              "      border-bottom-color: var(--fill-color);\n",
              "    }\n",
              "  }\n",
              "</style>\n",
              "\n",
              "      <script>\n",
              "        async function quickchart(key) {\n",
              "          const quickchartButtonEl =\n",
              "            document.querySelector('#' + key + ' button');\n",
              "          quickchartButtonEl.disabled = true;  // To prevent multiple clicks.\n",
              "          quickchartButtonEl.classList.add('colab-df-spinner');\n",
              "          try {\n",
              "            const charts = await google.colab.kernel.invokeFunction(\n",
              "                'suggestCharts', [key], {});\n",
              "          } catch (error) {\n",
              "            console.error('Error during call to suggestCharts:', error);\n",
              "          }\n",
              "          quickchartButtonEl.classList.remove('colab-df-spinner');\n",
              "          quickchartButtonEl.classList.add('colab-df-quickchart-complete');\n",
              "        }\n",
              "        (() => {\n",
              "          let quickchartButtonEl =\n",
              "            document.querySelector('#df-c0c67597-dda4-4daa-8017-657fe62baf6d button');\n",
              "          quickchartButtonEl.style.display =\n",
              "            google.colab.kernel.accessAllowed ? 'block' : 'none';\n",
              "        })();\n",
              "      </script>\n",
              "    </div>\n",
              "\n",
              "    </div>\n",
              "  </div>\n"
            ],
            "application/vnd.google.colaboratory.intrinsic+json": {
              "type": "dataframe",
              "variable_name": "df",
              "summary": "{\n  \"name\": \"df\",\n  \"rows\": 45322,\n  \"fields\": [\n    {\n      \"column\": \"Inspection ID\",\n      \"properties\": {\n        \"dtype\": \"number\",\n        \"std\": 14550,\n        \"min\": 2571303,\n        \"max\": 2622013,\n        \"num_unique_values\": 45322,\n        \"samples\": [\n          2585589,\n          2572185,\n          2571321\n        ],\n        \"semantic_type\": \"\",\n        \"description\": \"\"\n      }\n    },\n    {\n      \"column\": \"Business Name\",\n      \"properties\": {\n        \"dtype\": \"category\",\n        \"num_unique_values\": 12938,\n        \"samples\": [\n          \"MICHELLA TERRACE\",\n          \"FANNIE EMMANUEL APARTMENTS\",\n          \"TOMMY'S ON GRAND\"\n        ],\n        \"semantic_type\": \"\",\n        \"description\": \"\"\n      }\n    },\n    {\n      \"column\": \"Alternate Name\",\n      \"properties\": {\n        \"dtype\": \"category\",\n        \"num_unique_values\": 12486,\n        \"samples\": [\n          \"THE GREAT AMERICAN BAGEL (T3 K2)\",\n          \"TAS\",\n          \"K-BUENA SUPER MARKET INC.\"\n        ],\n        \"semantic_type\": \"\",\n        \"description\": \"\"\n      }\n    },\n    {\n      \"column\": \"License #\",\n      \"properties\": {\n        \"dtype\": \"number\",\n        \"std\": 922784.2330924533,\n        \"min\": 0.0,\n        \"max\": 4080789.0,\n        \"num_unique_values\": 16042,\n        \"samples\": [\n          2522831.0,\n          61208.0,\n          2934461.0\n        ],\n        \"semantic_type\": \"\",\n        \"description\": \"\"\n      }\n    },\n    {\n      \"column\": \"Facility Type\",\n      \"properties\": {\n        \"dtype\": \"category\",\n        \"num_unique_values\": 190,\n        \"samples\": [\n          \"GROCERY/GAS STATION\",\n          \"Other\",\n          \"VENDING COMMISSARY\"\n        ],\n        \"semantic_type\": \"\",\n        \"description\": \"\"\n      }\n    },\n    {\n      \"column\": \"Risk\",\n      \"properties\": {\n        \"dtype\": \"category\",\n        \"num_unique_values\": 4,\n        \"samples\": [\n          \"Risk 2 (Medium)\",\n          \"All\",\n          \"Risk 1 (High)\"\n        ],\n        \"semantic_type\": \"\",\n        \"description\": \"\"\n      }\n    },\n    {\n      \"column\": \"Address\",\n      \"properties\": {\n        \"dtype\": \"category\",\n        \"num_unique_values\": 18611,\n        \"samples\": [\n          \"3137 W 71ST ST \",\n          \"1 N HALSTED ST\",\n          \"2740 W 111TH ST\"\n        ],\n        \"semantic_type\": \"\",\n        \"description\": \"\"\n      }\n    },\n    {\n      \"column\": \"City\",\n      \"properties\": {\n        \"dtype\": \"category\",\n        \"num_unique_values\": 30,\n        \"samples\": [\n          \"PLAINFIELD\",\n          \"312CHICAGO\",\n          \"EVERGREEN\"\n        ],\n        \"semantic_type\": \"\",\n        \"description\": \"\"\n      }\n    },\n    {\n      \"column\": \"State\",\n      \"properties\": {\n        \"dtype\": \"category\",\n        \"num_unique_values\": 5,\n        \"samples\": [\n          \"CA\",\n          \"CO\",\n          \"IN\"\n        ],\n        \"semantic_type\": \"\",\n        \"description\": \"\"\n      }\n    },\n    {\n      \"column\": \"Zip\",\n      \"properties\": {\n        \"dtype\": \"number\",\n        \"std\": 231.29870131038487,\n        \"min\": 46322.0,\n        \"max\": 91706.0,\n        \"num_unique_values\": 80,\n        \"samples\": [\n          60618.0,\n          60637.0,\n          60628.0\n        ],\n        \"semantic_type\": \"\",\n        \"description\": \"\"\n      }\n    },\n    {\n      \"column\": \"Inspection Date\",\n      \"properties\": {\n        \"dtype\": \"object\",\n        \"num_unique_values\": 618,\n        \"samples\": [\n          \"5/30/2025\",\n          \"4/6/2023\",\n          \"4/14/2025\"\n        ],\n        \"semantic_type\": \"\",\n        \"description\": \"\"\n      }\n    },\n    {\n      \"column\": \"Inspection Type\",\n      \"properties\": {\n        \"dtype\": \"category\",\n        \"num_unique_values\": 14,\n        \"samples\": [\n          \"Recent Inspection\",\n          \"Consultation\",\n          \"License\"\n        ],\n        \"semantic_type\": \"\",\n        \"description\": \"\"\n      }\n    },\n    {\n      \"column\": \"Results\",\n      \"properties\": {\n        \"dtype\": \"category\",\n        \"num_unique_values\": 7,\n        \"samples\": [\n          \"Pass\",\n          \"Out of Business\",\n          \"Not Ready\"\n        ],\n        \"semantic_type\": \"\",\n        \"description\": \"\"\n      }\n    },\n    {\n      \"column\": \"Violations\",\n      \"properties\": {\n        \"dtype\": \"string\",\n        \"num_unique_values\": 30977,\n        \"samples\": [\n          \"10. ADEQUATE HANDWASHING SINKS PROPERLY SUPPLIED AND ACCESSIBLE - Comments: No hand soap provide at employee's restroom hand wash sink, instructed to provide. Priority foundation violation 7-38-030(c) | 23. PROPER DATE MARKING AND DISPOSITION - Comments: Food is prepared on site and held for more than 24 hours without discard date. Found  a container 3 lbs of cooked duck and 6 lbs of cooked chicken with no use by date. instructed manager to date all cooked food items. priority foundation violation 7-38-005. | 38. INSECTS, RODENTS, & ANIMALS NOT PRESENT | 49. NON-FOOD/FOOD CONTACT SURFACES CLEAN - Comments: Shelves and counters not clean through out kitchen, food debris and grease build-up. Instructed manager to clean and maintain.\",\n          \"49. NON-FOOD/FOOD CONTACT SURFACES CLEAN - Comments: 4-601.11(C) OBSERVED THE INTERIOR OF THE FRYERS WITH ACCUMULATED DEBRIS. INSTRUCTED TO CLEAN. | 51. PLUMBING INSTALLED; PROPER BACKFLOW DEVICES - Comments: 5-205.15 OBSERVED A STEADY MINOR LEAK AT THE FRESH WATER TANK. INSTRUCTED TO REPAIR. | 55. PHYSICAL FACILITIES INSTALLED, MAINTAINED & CLEAN - Comments: 6-501.12 OBSERVED ACCUMULATED GREASE DEBRIS ON THE SCREEN LOCATED ON THE CEILING AND A BLACK SUBSTANCE ACCUMULATED ON THE NAIL SCRUB THAT IS BY THE HAND WASHING SINK. INSTRUCTED TO CLEAN OR REPLACE.\",\n          \"35. APPROVED THAWING METHODS USED - Comments: IMPROPER THAWING OF FROZEN CHICKEN ON COUNTERTOP. INSTD TO THAW PROPERLY (I.E, UNDER COLD RUNNING WATER, UNDER REFRIGERATION, PART OF COOKING PROCESS, ETC). | 44. UTENSILS, EQUIPMENT & LINENS: PROPERLY STORED, DRIED, & HANDLED - Comments: POTS ON FLOOR. INSTD TO ELEVATE AND INVERT ALL MULTI USE EQUIPMENT.  | 51. PLUMBING INSTALLED; PROPER BACKFLOW DEVICES - Comments: HANDWASH SINK FAUCET CONSTANTLY LEAKING. UTILITY SINK FAUCET LEAKING INSTD TO REPAIR SAME AND MAINTAIN FREE OF LEAKS. 3-COMPARTMENT SINK SLOW DRAINING. INSTD TO REPAIR AND HAVE PROPERLY DRAINING | 53. TOILET FACILITIES: PROPERLY CONSTRUCTED, SUPPLIED, & CLEANED - Comments: MISSING COVER FOR TRASH RECEPTACLE IN TOILET ROOM. INSTD TO PROVIDE COVER AND MAINTAIN\"\n        ],\n        \"semantic_type\": \"\",\n        \"description\": \"\"\n      }\n    },\n    {\n      \"column\": \"Latitude\",\n      \"properties\": {\n        \"dtype\": \"number\",\n        \"std\": 0.08095604102938703,\n        \"min\": 41.64467013,\n        \"max\": 42.02106425,\n        \"num_unique_values\": 11374,\n        \"samples\": [\n          41.93799979,\n          41.84804402,\n          41.70074439\n        ],\n        \"semantic_type\": \"\",\n        \"description\": \"\"\n      }\n    },\n    {\n      \"column\": \"Longitude\",\n      \"properties\": {\n        \"dtype\": \"number\",\n        \"std\": 0.059403088685801735,\n        \"min\": -87.90687413,\n        \"max\": -87.52509414,\n        \"num_unique_values\": 11373,\n        \"samples\": [\n          -87.64418473,\n          -87.68293718,\n          -87.64278839\n        ],\n        \"semantic_type\": \"\",\n        \"description\": \"\"\n      }\n    },\n    {\n      \"column\": \"Location\",\n      \"properties\": {\n        \"dtype\": \"category\",\n        \"num_unique_values\": 11377,\n        \"samples\": [\n          \"(41.93799979314034, -87.64418473186258)\",\n          \"(41.93947287194346, -87.70278709263836)\",\n          \"(41.89272241307692, -87.6193937448626)\"\n        ],\n        \"semantic_type\": \"\",\n        \"description\": \"\"\n      }\n    }\n  ]\n}"
            }
          },
          "metadata": {},
          "execution_count": 8
        }
      ]
    },
    {
      "cell_type": "markdown",
      "source": [
        "**Checking Dataset Info**"
      ],
      "metadata": {
        "id": "tpnRiwjEiNX5"
      }
    },
    {
      "cell_type": "code",
      "source": [
        "df.info()"
      ],
      "metadata": {
        "colab": {
          "base_uri": "https://localhost:8080/"
        },
        "id": "Ib8KCPMWC-70",
        "outputId": "002cafb7-f005-49d9-fd54-57751d50b838"
      },
      "execution_count": null,
      "outputs": [
        {
          "output_type": "stream",
          "name": "stdout",
          "text": [
            "<class 'pandas.core.frame.DataFrame'>\n",
            "RangeIndex: 45322 entries, 0 to 45321\n",
            "Data columns (total 17 columns):\n",
            " #   Column           Non-Null Count  Dtype  \n",
            "---  ------           --------------  -----  \n",
            " 0   Inspection ID    45322 non-null  int64  \n",
            " 1   Business Name    45322 non-null  object \n",
            " 2   Alternate Name   45275 non-null  object \n",
            " 3   License #        45321 non-null  float64\n",
            " 4   Facility Type    45068 non-null  object \n",
            " 5   Risk             45309 non-null  object \n",
            " 6   Address          45322 non-null  object \n",
            " 7   City             45285 non-null  object \n",
            " 8   State            45309 non-null  object \n",
            " 9   Zip              45315 non-null  float64\n",
            " 10  Inspection Date  45322 non-null  object \n",
            " 11  Inspection Type  45322 non-null  object \n",
            " 12  Results          45322 non-null  object \n",
            " 13  Violations       31218 non-null  object \n",
            " 14  Latitude         45157 non-null  float64\n",
            " 15  Longitude        45157 non-null  float64\n",
            " 16  Location         45157 non-null  object \n",
            "dtypes: float64(4), int64(1), object(12)\n",
            "memory usage: 5.9+ MB\n"
          ]
        }
      ]
    },
    {
      "cell_type": "markdown",
      "source": [
        "**Checking Unique Values**"
      ],
      "metadata": {
        "id": "QWhhN9rxiZ3m"
      }
    },
    {
      "cell_type": "code",
      "source": [
        "df.nunique()"
      ],
      "metadata": {
        "colab": {
          "base_uri": "https://localhost:8080/",
          "height": 617
        },
        "id": "zB3VwC9tD3_N",
        "outputId": "c38d939f-1713-44c8-9b2d-e77254d559b5"
      },
      "execution_count": null,
      "outputs": [
        {
          "output_type": "execute_result",
          "data": {
            "text/plain": [
              "Inspection ID      45322\n",
              "Business Name      12938\n",
              "Alternate Name     12486\n",
              "License #          16042\n",
              "Facility Type        190\n",
              "Risk                   4\n",
              "Address            18611\n",
              "City                  30\n",
              "State                  5\n",
              "Zip                   80\n",
              "Inspection Date      618\n",
              "Inspection Type       14\n",
              "Results                7\n",
              "Violations         30977\n",
              "Latitude           11374\n",
              "Longitude          11373\n",
              "Location           11377\n",
              "dtype: int64"
            ],
            "text/html": [
              "<div>\n",
              "<style scoped>\n",
              "    .dataframe tbody tr th:only-of-type {\n",
              "        vertical-align: middle;\n",
              "    }\n",
              "\n",
              "    .dataframe tbody tr th {\n",
              "        vertical-align: top;\n",
              "    }\n",
              "\n",
              "    .dataframe thead th {\n",
              "        text-align: right;\n",
              "    }\n",
              "</style>\n",
              "<table border=\"1\" class=\"dataframe\">\n",
              "  <thead>\n",
              "    <tr style=\"text-align: right;\">\n",
              "      <th></th>\n",
              "      <th>0</th>\n",
              "    </tr>\n",
              "  </thead>\n",
              "  <tbody>\n",
              "    <tr>\n",
              "      <th>Inspection ID</th>\n",
              "      <td>45322</td>\n",
              "    </tr>\n",
              "    <tr>\n",
              "      <th>Business Name</th>\n",
              "      <td>12938</td>\n",
              "    </tr>\n",
              "    <tr>\n",
              "      <th>Alternate Name</th>\n",
              "      <td>12486</td>\n",
              "    </tr>\n",
              "    <tr>\n",
              "      <th>License #</th>\n",
              "      <td>16042</td>\n",
              "    </tr>\n",
              "    <tr>\n",
              "      <th>Facility Type</th>\n",
              "      <td>190</td>\n",
              "    </tr>\n",
              "    <tr>\n",
              "      <th>Risk</th>\n",
              "      <td>4</td>\n",
              "    </tr>\n",
              "    <tr>\n",
              "      <th>Address</th>\n",
              "      <td>18611</td>\n",
              "    </tr>\n",
              "    <tr>\n",
              "      <th>City</th>\n",
              "      <td>30</td>\n",
              "    </tr>\n",
              "    <tr>\n",
              "      <th>State</th>\n",
              "      <td>5</td>\n",
              "    </tr>\n",
              "    <tr>\n",
              "      <th>Zip</th>\n",
              "      <td>80</td>\n",
              "    </tr>\n",
              "    <tr>\n",
              "      <th>Inspection Date</th>\n",
              "      <td>618</td>\n",
              "    </tr>\n",
              "    <tr>\n",
              "      <th>Inspection Type</th>\n",
              "      <td>14</td>\n",
              "    </tr>\n",
              "    <tr>\n",
              "      <th>Results</th>\n",
              "      <td>7</td>\n",
              "    </tr>\n",
              "    <tr>\n",
              "      <th>Violations</th>\n",
              "      <td>30977</td>\n",
              "    </tr>\n",
              "    <tr>\n",
              "      <th>Latitude</th>\n",
              "      <td>11374</td>\n",
              "    </tr>\n",
              "    <tr>\n",
              "      <th>Longitude</th>\n",
              "      <td>11373</td>\n",
              "    </tr>\n",
              "    <tr>\n",
              "      <th>Location</th>\n",
              "      <td>11377</td>\n",
              "    </tr>\n",
              "  </tbody>\n",
              "</table>\n",
              "</div><br><label><b>dtype:</b> int64</label>"
            ]
          },
          "metadata": {},
          "execution_count": 10
        }
      ]
    },
    {
      "cell_type": "markdown",
      "source": [
        "**Cleaning String Attributes**"
      ],
      "metadata": {
        "id": "asigTicqixND"
      }
    },
    {
      "cell_type": "code",
      "source": [
        "for c in df.select_dtypes(include=['object']).columns:\n",
        "    df[c] = df[c].astype(str).str.strip()\n"
      ],
      "metadata": {
        "id": "APE4Iy7iEkcN"
      },
      "execution_count": null,
      "outputs": []
    },
    {
      "cell_type": "code",
      "source": [
        "print(\"Exact duplicate rows:\", df.duplicated().sum())"
      ],
      "metadata": {
        "colab": {
          "base_uri": "https://localhost:8080/"
        },
        "id": "FxRnlq36ErHQ",
        "outputId": "cf18124d-ee25-48c9-d50a-a6c8dacd8584"
      },
      "execution_count": null,
      "outputs": [
        {
          "output_type": "stream",
          "name": "stdout",
          "text": [
            "Exact duplicate rows: 0\n"
          ]
        }
      ]
    },
    {
      "cell_type": "markdown",
      "source": [
        "**Handling Duplicates**"
      ],
      "metadata": {
        "id": "zTuONVHSi6Zp"
      }
    },
    {
      "cell_type": "code",
      "source": [
        "if 'Inspection ID' in df.columns:\n",
        "    print(\"Duplicates by Inspection ID:\", df.duplicated(subset=['Inspection ID']).sum())\n",
        "    # drop duplicates keeping first occurrence\n",
        "    df = df.drop_duplicates(subset=['Inspection ID'], keep='first')\n",
        "else:\n",
        "    # drop exact duplicates only\n",
        "    df = df.drop_duplicates()"
      ],
      "metadata": {
        "colab": {
          "base_uri": "https://localhost:8080/"
        },
        "id": "swgAK3YiEydS",
        "outputId": "de6f68ca-b004-42b0-db9c-43a5bfe287ed"
      },
      "execution_count": null,
      "outputs": [
        {
          "output_type": "stream",
          "name": "stdout",
          "text": [
            "Duplicates by Inspection ID: 0\n"
          ]
        }
      ]
    },
    {
      "cell_type": "markdown",
      "source": [
        "**Missing Values Analysis**"
      ],
      "metadata": {
        "id": "x0vQoXGsjCsB"
      }
    },
    {
      "cell_type": "code",
      "source": [
        "miss = df.isnull().sum().sort_values(ascending=False)\n",
        "miss_percent = (df.isnull().mean()*100).sort_values(ascending=False)\n",
        "pd.concat([miss, miss_percent], axis=1, keys=['missing_count','missing_pct']).head(20)\n"
      ],
      "metadata": {
        "colab": {
          "base_uri": "https://localhost:8080/",
          "height": 582
        },
        "id": "3zxe3szbE4FA",
        "outputId": "91efbae0-0823-4422-dcf1-e0ff57fde333"
      },
      "execution_count": null,
      "outputs": [
        {
          "output_type": "execute_result",
          "data": {
            "text/plain": [
              "                 missing_count  missing_pct\n",
              "Latitude                   165     0.364062\n",
              "Longitude                  165     0.364062\n",
              "Zip                          7     0.015445\n",
              "License #                    1     0.002206\n",
              "Inspection ID                0     0.000000\n",
              "Risk                         0     0.000000\n",
              "Business Name                0     0.000000\n",
              "Alternate Name               0     0.000000\n",
              "Facility Type                0     0.000000\n",
              "State                        0     0.000000\n",
              "City                         0     0.000000\n",
              "Address                      0     0.000000\n",
              "Inspection Date              0     0.000000\n",
              "Results                      0     0.000000\n",
              "Inspection Type              0     0.000000\n",
              "Violations                   0     0.000000\n",
              "Location                     0     0.000000"
            ],
            "text/html": [
              "\n",
              "  <div id=\"df-90191c32-d222-4b78-9b00-288e38d57e7b\" class=\"colab-df-container\">\n",
              "    <div>\n",
              "<style scoped>\n",
              "    .dataframe tbody tr th:only-of-type {\n",
              "        vertical-align: middle;\n",
              "    }\n",
              "\n",
              "    .dataframe tbody tr th {\n",
              "        vertical-align: top;\n",
              "    }\n",
              "\n",
              "    .dataframe thead th {\n",
              "        text-align: right;\n",
              "    }\n",
              "</style>\n",
              "<table border=\"1\" class=\"dataframe\">\n",
              "  <thead>\n",
              "    <tr style=\"text-align: right;\">\n",
              "      <th></th>\n",
              "      <th>missing_count</th>\n",
              "      <th>missing_pct</th>\n",
              "    </tr>\n",
              "  </thead>\n",
              "  <tbody>\n",
              "    <tr>\n",
              "      <th>Latitude</th>\n",
              "      <td>165</td>\n",
              "      <td>0.364062</td>\n",
              "    </tr>\n",
              "    <tr>\n",
              "      <th>Longitude</th>\n",
              "      <td>165</td>\n",
              "      <td>0.364062</td>\n",
              "    </tr>\n",
              "    <tr>\n",
              "      <th>Zip</th>\n",
              "      <td>7</td>\n",
              "      <td>0.015445</td>\n",
              "    </tr>\n",
              "    <tr>\n",
              "      <th>License #</th>\n",
              "      <td>1</td>\n",
              "      <td>0.002206</td>\n",
              "    </tr>\n",
              "    <tr>\n",
              "      <th>Inspection ID</th>\n",
              "      <td>0</td>\n",
              "      <td>0.000000</td>\n",
              "    </tr>\n",
              "    <tr>\n",
              "      <th>Risk</th>\n",
              "      <td>0</td>\n",
              "      <td>0.000000</td>\n",
              "    </tr>\n",
              "    <tr>\n",
              "      <th>Business Name</th>\n",
              "      <td>0</td>\n",
              "      <td>0.000000</td>\n",
              "    </tr>\n",
              "    <tr>\n",
              "      <th>Alternate Name</th>\n",
              "      <td>0</td>\n",
              "      <td>0.000000</td>\n",
              "    </tr>\n",
              "    <tr>\n",
              "      <th>Facility Type</th>\n",
              "      <td>0</td>\n",
              "      <td>0.000000</td>\n",
              "    </tr>\n",
              "    <tr>\n",
              "      <th>State</th>\n",
              "      <td>0</td>\n",
              "      <td>0.000000</td>\n",
              "    </tr>\n",
              "    <tr>\n",
              "      <th>City</th>\n",
              "      <td>0</td>\n",
              "      <td>0.000000</td>\n",
              "    </tr>\n",
              "    <tr>\n",
              "      <th>Address</th>\n",
              "      <td>0</td>\n",
              "      <td>0.000000</td>\n",
              "    </tr>\n",
              "    <tr>\n",
              "      <th>Inspection Date</th>\n",
              "      <td>0</td>\n",
              "      <td>0.000000</td>\n",
              "    </tr>\n",
              "    <tr>\n",
              "      <th>Results</th>\n",
              "      <td>0</td>\n",
              "      <td>0.000000</td>\n",
              "    </tr>\n",
              "    <tr>\n",
              "      <th>Inspection Type</th>\n",
              "      <td>0</td>\n",
              "      <td>0.000000</td>\n",
              "    </tr>\n",
              "    <tr>\n",
              "      <th>Violations</th>\n",
              "      <td>0</td>\n",
              "      <td>0.000000</td>\n",
              "    </tr>\n",
              "    <tr>\n",
              "      <th>Location</th>\n",
              "      <td>0</td>\n",
              "      <td>0.000000</td>\n",
              "    </tr>\n",
              "  </tbody>\n",
              "</table>\n",
              "</div>\n",
              "    <div class=\"colab-df-buttons\">\n",
              "\n",
              "  <div class=\"colab-df-container\">\n",
              "    <button class=\"colab-df-convert\" onclick=\"convertToInteractive('df-90191c32-d222-4b78-9b00-288e38d57e7b')\"\n",
              "            title=\"Convert this dataframe to an interactive table.\"\n",
              "            style=\"display:none;\">\n",
              "\n",
              "  <svg xmlns=\"http://www.w3.org/2000/svg\" height=\"24px\" viewBox=\"0 -960 960 960\">\n",
              "    <path d=\"M120-120v-720h720v720H120Zm60-500h600v-160H180v160Zm220 220h160v-160H400v160Zm0 220h160v-160H400v160ZM180-400h160v-160H180v160Zm440 0h160v-160H620v160ZM180-180h160v-160H180v160Zm440 0h160v-160H620v160Z\"/>\n",
              "  </svg>\n",
              "    </button>\n",
              "\n",
              "  <style>\n",
              "    .colab-df-container {\n",
              "      display:flex;\n",
              "      gap: 12px;\n",
              "    }\n",
              "\n",
              "    .colab-df-convert {\n",
              "      background-color: #E8F0FE;\n",
              "      border: none;\n",
              "      border-radius: 50%;\n",
              "      cursor: pointer;\n",
              "      display: none;\n",
              "      fill: #1967D2;\n",
              "      height: 32px;\n",
              "      padding: 0 0 0 0;\n",
              "      width: 32px;\n",
              "    }\n",
              "\n",
              "    .colab-df-convert:hover {\n",
              "      background-color: #E2EBFA;\n",
              "      box-shadow: 0px 1px 2px rgba(60, 64, 67, 0.3), 0px 1px 3px 1px rgba(60, 64, 67, 0.15);\n",
              "      fill: #174EA6;\n",
              "    }\n",
              "\n",
              "    .colab-df-buttons div {\n",
              "      margin-bottom: 4px;\n",
              "    }\n",
              "\n",
              "    [theme=dark] .colab-df-convert {\n",
              "      background-color: #3B4455;\n",
              "      fill: #D2E3FC;\n",
              "    }\n",
              "\n",
              "    [theme=dark] .colab-df-convert:hover {\n",
              "      background-color: #434B5C;\n",
              "      box-shadow: 0px 1px 3px 1px rgba(0, 0, 0, 0.15);\n",
              "      filter: drop-shadow(0px 1px 2px rgba(0, 0, 0, 0.3));\n",
              "      fill: #FFFFFF;\n",
              "    }\n",
              "  </style>\n",
              "\n",
              "    <script>\n",
              "      const buttonEl =\n",
              "        document.querySelector('#df-90191c32-d222-4b78-9b00-288e38d57e7b button.colab-df-convert');\n",
              "      buttonEl.style.display =\n",
              "        google.colab.kernel.accessAllowed ? 'block' : 'none';\n",
              "\n",
              "      async function convertToInteractive(key) {\n",
              "        const element = document.querySelector('#df-90191c32-d222-4b78-9b00-288e38d57e7b');\n",
              "        const dataTable =\n",
              "          await google.colab.kernel.invokeFunction('convertToInteractive',\n",
              "                                                    [key], {});\n",
              "        if (!dataTable) return;\n",
              "\n",
              "        const docLinkHtml = 'Like what you see? Visit the ' +\n",
              "          '<a target=\"_blank\" href=https://colab.research.google.com/notebooks/data_table.ipynb>data table notebook</a>'\n",
              "          + ' to learn more about interactive tables.';\n",
              "        element.innerHTML = '';\n",
              "        dataTable['output_type'] = 'display_data';\n",
              "        await google.colab.output.renderOutput(dataTable, element);\n",
              "        const docLink = document.createElement('div');\n",
              "        docLink.innerHTML = docLinkHtml;\n",
              "        element.appendChild(docLink);\n",
              "      }\n",
              "    </script>\n",
              "  </div>\n",
              "\n",
              "\n",
              "    <div id=\"df-4699274c-cc9e-4e54-88fe-a51d46e05e5f\">\n",
              "      <button class=\"colab-df-quickchart\" onclick=\"quickchart('df-4699274c-cc9e-4e54-88fe-a51d46e05e5f')\"\n",
              "                title=\"Suggest charts\"\n",
              "                style=\"display:none;\">\n",
              "\n",
              "<svg xmlns=\"http://www.w3.org/2000/svg\" height=\"24px\"viewBox=\"0 0 24 24\"\n",
              "     width=\"24px\">\n",
              "    <g>\n",
              "        <path d=\"M19 3H5c-1.1 0-2 .9-2 2v14c0 1.1.9 2 2 2h14c1.1 0 2-.9 2-2V5c0-1.1-.9-2-2-2zM9 17H7v-7h2v7zm4 0h-2V7h2v10zm4 0h-2v-4h2v4z\"/>\n",
              "    </g>\n",
              "</svg>\n",
              "      </button>\n",
              "\n",
              "<style>\n",
              "  .colab-df-quickchart {\n",
              "      --bg-color: #E8F0FE;\n",
              "      --fill-color: #1967D2;\n",
              "      --hover-bg-color: #E2EBFA;\n",
              "      --hover-fill-color: #174EA6;\n",
              "      --disabled-fill-color: #AAA;\n",
              "      --disabled-bg-color: #DDD;\n",
              "  }\n",
              "\n",
              "  [theme=dark] .colab-df-quickchart {\n",
              "      --bg-color: #3B4455;\n",
              "      --fill-color: #D2E3FC;\n",
              "      --hover-bg-color: #434B5C;\n",
              "      --hover-fill-color: #FFFFFF;\n",
              "      --disabled-bg-color: #3B4455;\n",
              "      --disabled-fill-color: #666;\n",
              "  }\n",
              "\n",
              "  .colab-df-quickchart {\n",
              "    background-color: var(--bg-color);\n",
              "    border: none;\n",
              "    border-radius: 50%;\n",
              "    cursor: pointer;\n",
              "    display: none;\n",
              "    fill: var(--fill-color);\n",
              "    height: 32px;\n",
              "    padding: 0;\n",
              "    width: 32px;\n",
              "  }\n",
              "\n",
              "  .colab-df-quickchart:hover {\n",
              "    background-color: var(--hover-bg-color);\n",
              "    box-shadow: 0 1px 2px rgba(60, 64, 67, 0.3), 0 1px 3px 1px rgba(60, 64, 67, 0.15);\n",
              "    fill: var(--button-hover-fill-color);\n",
              "  }\n",
              "\n",
              "  .colab-df-quickchart-complete:disabled,\n",
              "  .colab-df-quickchart-complete:disabled:hover {\n",
              "    background-color: var(--disabled-bg-color);\n",
              "    fill: var(--disabled-fill-color);\n",
              "    box-shadow: none;\n",
              "  }\n",
              "\n",
              "  .colab-df-spinner {\n",
              "    border: 2px solid var(--fill-color);\n",
              "    border-color: transparent;\n",
              "    border-bottom-color: var(--fill-color);\n",
              "    animation:\n",
              "      spin 1s steps(1) infinite;\n",
              "  }\n",
              "\n",
              "  @keyframes spin {\n",
              "    0% {\n",
              "      border-color: transparent;\n",
              "      border-bottom-color: var(--fill-color);\n",
              "      border-left-color: var(--fill-color);\n",
              "    }\n",
              "    20% {\n",
              "      border-color: transparent;\n",
              "      border-left-color: var(--fill-color);\n",
              "      border-top-color: var(--fill-color);\n",
              "    }\n",
              "    30% {\n",
              "      border-color: transparent;\n",
              "      border-left-color: var(--fill-color);\n",
              "      border-top-color: var(--fill-color);\n",
              "      border-right-color: var(--fill-color);\n",
              "    }\n",
              "    40% {\n",
              "      border-color: transparent;\n",
              "      border-right-color: var(--fill-color);\n",
              "      border-top-color: var(--fill-color);\n",
              "    }\n",
              "    60% {\n",
              "      border-color: transparent;\n",
              "      border-right-color: var(--fill-color);\n",
              "    }\n",
              "    80% {\n",
              "      border-color: transparent;\n",
              "      border-right-color: var(--fill-color);\n",
              "      border-bottom-color: var(--fill-color);\n",
              "    }\n",
              "    90% {\n",
              "      border-color: transparent;\n",
              "      border-bottom-color: var(--fill-color);\n",
              "    }\n",
              "  }\n",
              "</style>\n",
              "\n",
              "      <script>\n",
              "        async function quickchart(key) {\n",
              "          const quickchartButtonEl =\n",
              "            document.querySelector('#' + key + ' button');\n",
              "          quickchartButtonEl.disabled = true;  // To prevent multiple clicks.\n",
              "          quickchartButtonEl.classList.add('colab-df-spinner');\n",
              "          try {\n",
              "            const charts = await google.colab.kernel.invokeFunction(\n",
              "                'suggestCharts', [key], {});\n",
              "          } catch (error) {\n",
              "            console.error('Error during call to suggestCharts:', error);\n",
              "          }\n",
              "          quickchartButtonEl.classList.remove('colab-df-spinner');\n",
              "          quickchartButtonEl.classList.add('colab-df-quickchart-complete');\n",
              "        }\n",
              "        (() => {\n",
              "          let quickchartButtonEl =\n",
              "            document.querySelector('#df-4699274c-cc9e-4e54-88fe-a51d46e05e5f button');\n",
              "          quickchartButtonEl.style.display =\n",
              "            google.colab.kernel.accessAllowed ? 'block' : 'none';\n",
              "        })();\n",
              "      </script>\n",
              "    </div>\n",
              "\n",
              "    </div>\n",
              "  </div>\n"
            ],
            "application/vnd.google.colaboratory.intrinsic+json": {
              "type": "dataframe",
              "summary": "{\n  \"name\": \"pd\",\n  \"rows\": 17,\n  \"fields\": [\n    {\n      \"column\": \"missing_count\",\n      \"properties\": {\n        \"dtype\": \"number\",\n        \"std\": 54,\n        \"min\": 0,\n        \"max\": 165,\n        \"num_unique_values\": 4,\n        \"samples\": [\n          7,\n          0,\n          165\n        ],\n        \"semantic_type\": \"\",\n        \"description\": \"\"\n      }\n    },\n    {\n      \"column\": \"missing_pct\",\n      \"properties\": {\n        \"dtype\": \"number\",\n        \"std\": 0.12057379923192758,\n        \"min\": 0.0,\n        \"max\": 0.36406160363620316,\n        \"num_unique_values\": 4,\n        \"samples\": [\n          0.01544503773002074,\n          0.0,\n          0.36406160363620316\n        ],\n        \"semantic_type\": \"\",\n        \"description\": \"\"\n      }\n    }\n  ]\n}"
            }
          },
          "metadata": {},
          "execution_count": 14
        }
      ]
    },
    {
      "cell_type": "markdown",
      "source": [
        "**Creating Missing Value Flags**\n",
        "Instead of just dropping rows, track missingness as a feature. Sometimes, the fact that a value is missing carries business meaning (e.g., inspections without results might indicate pending cases). Useful for later analysis, filtering, or even as input in ML models."
      ],
      "metadata": {
        "id": "OCPpqDwjjVdD"
      }
    },
    {
      "cell_type": "code",
      "source": [
        "for col in ['Results','Latitude','Longitude','License #']:\n",
        "    if col in df.columns:\n",
        "        df[f'{col}_missing'] = df[col].isnull()\n",
        "# quick check\n",
        "df[['Results_missing','Latitude_missing','Longitude_missing']].head()"
      ],
      "metadata": {
        "colab": {
          "base_uri": "https://localhost:8080/",
          "height": 206
        },
        "id": "4yQr0s6lE_-F",
        "outputId": "9668de25-777e-4519-c634-ddefb987f6b9"
      },
      "execution_count": null,
      "outputs": [
        {
          "output_type": "execute_result",
          "data": {
            "text/plain": [
              "   Results_missing  Latitude_missing  Longitude_missing\n",
              "0            False             False              False\n",
              "1            False             False              False\n",
              "2            False             False              False\n",
              "3            False             False              False\n",
              "4            False             False              False"
            ],
            "text/html": [
              "\n",
              "  <div id=\"df-40b5ece5-f8e8-48d3-9c8f-da85840e752d\" class=\"colab-df-container\">\n",
              "    <div>\n",
              "<style scoped>\n",
              "    .dataframe tbody tr th:only-of-type {\n",
              "        vertical-align: middle;\n",
              "    }\n",
              "\n",
              "    .dataframe tbody tr th {\n",
              "        vertical-align: top;\n",
              "    }\n",
              "\n",
              "    .dataframe thead th {\n",
              "        text-align: right;\n",
              "    }\n",
              "</style>\n",
              "<table border=\"1\" class=\"dataframe\">\n",
              "  <thead>\n",
              "    <tr style=\"text-align: right;\">\n",
              "      <th></th>\n",
              "      <th>Results_missing</th>\n",
              "      <th>Latitude_missing</th>\n",
              "      <th>Longitude_missing</th>\n",
              "    </tr>\n",
              "  </thead>\n",
              "  <tbody>\n",
              "    <tr>\n",
              "      <th>0</th>\n",
              "      <td>False</td>\n",
              "      <td>False</td>\n",
              "      <td>False</td>\n",
              "    </tr>\n",
              "    <tr>\n",
              "      <th>1</th>\n",
              "      <td>False</td>\n",
              "      <td>False</td>\n",
              "      <td>False</td>\n",
              "    </tr>\n",
              "    <tr>\n",
              "      <th>2</th>\n",
              "      <td>False</td>\n",
              "      <td>False</td>\n",
              "      <td>False</td>\n",
              "    </tr>\n",
              "    <tr>\n",
              "      <th>3</th>\n",
              "      <td>False</td>\n",
              "      <td>False</td>\n",
              "      <td>False</td>\n",
              "    </tr>\n",
              "    <tr>\n",
              "      <th>4</th>\n",
              "      <td>False</td>\n",
              "      <td>False</td>\n",
              "      <td>False</td>\n",
              "    </tr>\n",
              "  </tbody>\n",
              "</table>\n",
              "</div>\n",
              "    <div class=\"colab-df-buttons\">\n",
              "\n",
              "  <div class=\"colab-df-container\">\n",
              "    <button class=\"colab-df-convert\" onclick=\"convertToInteractive('df-40b5ece5-f8e8-48d3-9c8f-da85840e752d')\"\n",
              "            title=\"Convert this dataframe to an interactive table.\"\n",
              "            style=\"display:none;\">\n",
              "\n",
              "  <svg xmlns=\"http://www.w3.org/2000/svg\" height=\"24px\" viewBox=\"0 -960 960 960\">\n",
              "    <path d=\"M120-120v-720h720v720H120Zm60-500h600v-160H180v160Zm220 220h160v-160H400v160Zm0 220h160v-160H400v160ZM180-400h160v-160H180v160Zm440 0h160v-160H620v160ZM180-180h160v-160H180v160Zm440 0h160v-160H620v160Z\"/>\n",
              "  </svg>\n",
              "    </button>\n",
              "\n",
              "  <style>\n",
              "    .colab-df-container {\n",
              "      display:flex;\n",
              "      gap: 12px;\n",
              "    }\n",
              "\n",
              "    .colab-df-convert {\n",
              "      background-color: #E8F0FE;\n",
              "      border: none;\n",
              "      border-radius: 50%;\n",
              "      cursor: pointer;\n",
              "      display: none;\n",
              "      fill: #1967D2;\n",
              "      height: 32px;\n",
              "      padding: 0 0 0 0;\n",
              "      width: 32px;\n",
              "    }\n",
              "\n",
              "    .colab-df-convert:hover {\n",
              "      background-color: #E2EBFA;\n",
              "      box-shadow: 0px 1px 2px rgba(60, 64, 67, 0.3), 0px 1px 3px 1px rgba(60, 64, 67, 0.15);\n",
              "      fill: #174EA6;\n",
              "    }\n",
              "\n",
              "    .colab-df-buttons div {\n",
              "      margin-bottom: 4px;\n",
              "    }\n",
              "\n",
              "    [theme=dark] .colab-df-convert {\n",
              "      background-color: #3B4455;\n",
              "      fill: #D2E3FC;\n",
              "    }\n",
              "\n",
              "    [theme=dark] .colab-df-convert:hover {\n",
              "      background-color: #434B5C;\n",
              "      box-shadow: 0px 1px 3px 1px rgba(0, 0, 0, 0.15);\n",
              "      filter: drop-shadow(0px 1px 2px rgba(0, 0, 0, 0.3));\n",
              "      fill: #FFFFFF;\n",
              "    }\n",
              "  </style>\n",
              "\n",
              "    <script>\n",
              "      const buttonEl =\n",
              "        document.querySelector('#df-40b5ece5-f8e8-48d3-9c8f-da85840e752d button.colab-df-convert');\n",
              "      buttonEl.style.display =\n",
              "        google.colab.kernel.accessAllowed ? 'block' : 'none';\n",
              "\n",
              "      async function convertToInteractive(key) {\n",
              "        const element = document.querySelector('#df-40b5ece5-f8e8-48d3-9c8f-da85840e752d');\n",
              "        const dataTable =\n",
              "          await google.colab.kernel.invokeFunction('convertToInteractive',\n",
              "                                                    [key], {});\n",
              "        if (!dataTable) return;\n",
              "\n",
              "        const docLinkHtml = 'Like what you see? Visit the ' +\n",
              "          '<a target=\"_blank\" href=https://colab.research.google.com/notebooks/data_table.ipynb>data table notebook</a>'\n",
              "          + ' to learn more about interactive tables.';\n",
              "        element.innerHTML = '';\n",
              "        dataTable['output_type'] = 'display_data';\n",
              "        await google.colab.output.renderOutput(dataTable, element);\n",
              "        const docLink = document.createElement('div');\n",
              "        docLink.innerHTML = docLinkHtml;\n",
              "        element.appendChild(docLink);\n",
              "      }\n",
              "    </script>\n",
              "  </div>\n",
              "\n",
              "\n",
              "    <div id=\"df-ebd1ffa3-28ce-434f-9146-d358d33e95e4\">\n",
              "      <button class=\"colab-df-quickchart\" onclick=\"quickchart('df-ebd1ffa3-28ce-434f-9146-d358d33e95e4')\"\n",
              "                title=\"Suggest charts\"\n",
              "                style=\"display:none;\">\n",
              "\n",
              "<svg xmlns=\"http://www.w3.org/2000/svg\" height=\"24px\"viewBox=\"0 0 24 24\"\n",
              "     width=\"24px\">\n",
              "    <g>\n",
              "        <path d=\"M19 3H5c-1.1 0-2 .9-2 2v14c0 1.1.9 2 2 2h14c1.1 0 2-.9 2-2V5c0-1.1-.9-2-2-2zM9 17H7v-7h2v7zm4 0h-2V7h2v10zm4 0h-2v-4h2v4z\"/>\n",
              "    </g>\n",
              "</svg>\n",
              "      </button>\n",
              "\n",
              "<style>\n",
              "  .colab-df-quickchart {\n",
              "      --bg-color: #E8F0FE;\n",
              "      --fill-color: #1967D2;\n",
              "      --hover-bg-color: #E2EBFA;\n",
              "      --hover-fill-color: #174EA6;\n",
              "      --disabled-fill-color: #AAA;\n",
              "      --disabled-bg-color: #DDD;\n",
              "  }\n",
              "\n",
              "  [theme=dark] .colab-df-quickchart {\n",
              "      --bg-color: #3B4455;\n",
              "      --fill-color: #D2E3FC;\n",
              "      --hover-bg-color: #434B5C;\n",
              "      --hover-fill-color: #FFFFFF;\n",
              "      --disabled-bg-color: #3B4455;\n",
              "      --disabled-fill-color: #666;\n",
              "  }\n",
              "\n",
              "  .colab-df-quickchart {\n",
              "    background-color: var(--bg-color);\n",
              "    border: none;\n",
              "    border-radius: 50%;\n",
              "    cursor: pointer;\n",
              "    display: none;\n",
              "    fill: var(--fill-color);\n",
              "    height: 32px;\n",
              "    padding: 0;\n",
              "    width: 32px;\n",
              "  }\n",
              "\n",
              "  .colab-df-quickchart:hover {\n",
              "    background-color: var(--hover-bg-color);\n",
              "    box-shadow: 0 1px 2px rgba(60, 64, 67, 0.3), 0 1px 3px 1px rgba(60, 64, 67, 0.15);\n",
              "    fill: var(--button-hover-fill-color);\n",
              "  }\n",
              "\n",
              "  .colab-df-quickchart-complete:disabled,\n",
              "  .colab-df-quickchart-complete:disabled:hover {\n",
              "    background-color: var(--disabled-bg-color);\n",
              "    fill: var(--disabled-fill-color);\n",
              "    box-shadow: none;\n",
              "  }\n",
              "\n",
              "  .colab-df-spinner {\n",
              "    border: 2px solid var(--fill-color);\n",
              "    border-color: transparent;\n",
              "    border-bottom-color: var(--fill-color);\n",
              "    animation:\n",
              "      spin 1s steps(1) infinite;\n",
              "  }\n",
              "\n",
              "  @keyframes spin {\n",
              "    0% {\n",
              "      border-color: transparent;\n",
              "      border-bottom-color: var(--fill-color);\n",
              "      border-left-color: var(--fill-color);\n",
              "    }\n",
              "    20% {\n",
              "      border-color: transparent;\n",
              "      border-left-color: var(--fill-color);\n",
              "      border-top-color: var(--fill-color);\n",
              "    }\n",
              "    30% {\n",
              "      border-color: transparent;\n",
              "      border-left-color: var(--fill-color);\n",
              "      border-top-color: var(--fill-color);\n",
              "      border-right-color: var(--fill-color);\n",
              "    }\n",
              "    40% {\n",
              "      border-color: transparent;\n",
              "      border-right-color: var(--fill-color);\n",
              "      border-top-color: var(--fill-color);\n",
              "    }\n",
              "    60% {\n",
              "      border-color: transparent;\n",
              "      border-right-color: var(--fill-color);\n",
              "    }\n",
              "    80% {\n",
              "      border-color: transparent;\n",
              "      border-right-color: var(--fill-color);\n",
              "      border-bottom-color: var(--fill-color);\n",
              "    }\n",
              "    90% {\n",
              "      border-color: transparent;\n",
              "      border-bottom-color: var(--fill-color);\n",
              "    }\n",
              "  }\n",
              "</style>\n",
              "\n",
              "      <script>\n",
              "        async function quickchart(key) {\n",
              "          const quickchartButtonEl =\n",
              "            document.querySelector('#' + key + ' button');\n",
              "          quickchartButtonEl.disabled = true;  // To prevent multiple clicks.\n",
              "          quickchartButtonEl.classList.add('colab-df-spinner');\n",
              "          try {\n",
              "            const charts = await google.colab.kernel.invokeFunction(\n",
              "                'suggestCharts', [key], {});\n",
              "          } catch (error) {\n",
              "            console.error('Error during call to suggestCharts:', error);\n",
              "          }\n",
              "          quickchartButtonEl.classList.remove('colab-df-spinner');\n",
              "          quickchartButtonEl.classList.add('colab-df-quickchart-complete');\n",
              "        }\n",
              "        (() => {\n",
              "          let quickchartButtonEl =\n",
              "            document.querySelector('#df-ebd1ffa3-28ce-434f-9146-d358d33e95e4 button');\n",
              "          quickchartButtonEl.style.display =\n",
              "            google.colab.kernel.accessAllowed ? 'block' : 'none';\n",
              "        })();\n",
              "      </script>\n",
              "    </div>\n",
              "\n",
              "    </div>\n",
              "  </div>\n"
            ],
            "application/vnd.google.colaboratory.intrinsic+json": {
              "type": "dataframe",
              "summary": "{\n  \"name\": \"df[['Results_missing','Latitude_missing','Longitude_missing']]\",\n  \"rows\": 5,\n  \"fields\": [\n    {\n      \"column\": \"Results_missing\",\n      \"properties\": {\n        \"dtype\": \"boolean\",\n        \"num_unique_values\": 1,\n        \"samples\": [\n          false\n        ],\n        \"semantic_type\": \"\",\n        \"description\": \"\"\n      }\n    },\n    {\n      \"column\": \"Latitude_missing\",\n      \"properties\": {\n        \"dtype\": \"boolean\",\n        \"num_unique_values\": 1,\n        \"samples\": [\n          false\n        ],\n        \"semantic_type\": \"\",\n        \"description\": \"\"\n      }\n    },\n    {\n      \"column\": \"Longitude_missing\",\n      \"properties\": {\n        \"dtype\": \"boolean\",\n        \"num_unique_values\": 1,\n        \"samples\": [\n          false\n        ],\n        \"semantic_type\": \"\",\n        \"description\": \"\"\n      }\n    }\n  ]\n}"
            }
          },
          "metadata": {},
          "execution_count": 15
        }
      ]
    },
    {
      "cell_type": "markdown",
      "source": [
        "**Droping Useless Attributes**"
      ],
      "metadata": {
        "id": "nMXVbP0KjyqP"
      }
    },
    {
      "cell_type": "code",
      "source": [
        "df.drop(columns=['Alternate Name', 'License #', 'Address', 'State', 'Location'], inplace=True)\n"
      ],
      "metadata": {
        "id": "rQ0kT9gwFxct"
      },
      "execution_count": null,
      "outputs": []
    },
    {
      "cell_type": "markdown",
      "source": [
        "**Now Rechecking Dataset Structure**"
      ],
      "metadata": {
        "id": "UB3dbC94j8f-"
      }
    },
    {
      "cell_type": "code",
      "source": [
        "df.info()"
      ],
      "metadata": {
        "colab": {
          "base_uri": "https://localhost:8080/"
        },
        "id": "Ke_fHgFOF-Fx",
        "outputId": "0198e215-4c8b-495b-d5ec-2da8ed7f234b"
      },
      "execution_count": null,
      "outputs": [
        {
          "output_type": "stream",
          "name": "stdout",
          "text": [
            "<class 'pandas.core.frame.DataFrame'>\n",
            "RangeIndex: 45322 entries, 0 to 45321\n",
            "Data columns (total 16 columns):\n",
            " #   Column             Non-Null Count  Dtype  \n",
            "---  ------             --------------  -----  \n",
            " 0   Inspection ID      45322 non-null  int64  \n",
            " 1   Business Name      45322 non-null  object \n",
            " 2   Facility Type      45322 non-null  object \n",
            " 3   Risk               45322 non-null  object \n",
            " 4   City               45322 non-null  object \n",
            " 5   Zip                45315 non-null  float64\n",
            " 6   Inspection Date    45322 non-null  object \n",
            " 7   Inspection Type    45322 non-null  object \n",
            " 8   Results            45322 non-null  object \n",
            " 9   Violations         45322 non-null  object \n",
            " 10  Latitude           45157 non-null  float64\n",
            " 11  Longitude          45157 non-null  float64\n",
            " 12  Results_missing    45322 non-null  bool   \n",
            " 13  Latitude_missing   45322 non-null  bool   \n",
            " 14  Longitude_missing  45322 non-null  bool   \n",
            " 15  License #_missing  45322 non-null  bool   \n",
            "dtypes: bool(4), float64(3), int64(1), object(8)\n",
            "memory usage: 4.3+ MB\n"
          ]
        }
      ]
    },
    {
      "cell_type": "code",
      "source": [
        "df.info()"
      ],
      "metadata": {
        "colab": {
          "base_uri": "https://localhost:8080/"
        },
        "id": "Yt_-vyDVH_xH",
        "outputId": "0f9ec614-9f24-4745-9b55-a61f34ab78a4"
      },
      "execution_count": null,
      "outputs": [
        {
          "output_type": "stream",
          "name": "stdout",
          "text": [
            "<class 'pandas.core.frame.DataFrame'>\n",
            "RangeIndex: 45322 entries, 0 to 45321\n",
            "Data columns (total 16 columns):\n",
            " #   Column             Non-Null Count  Dtype  \n",
            "---  ------             --------------  -----  \n",
            " 0   Inspection ID      45322 non-null  int64  \n",
            " 1   Business Name      45322 non-null  object \n",
            " 2   Facility Type      45322 non-null  object \n",
            " 3   Risk               45322 non-null  object \n",
            " 4   City               45322 non-null  object \n",
            " 5   Zip                45322 non-null  float64\n",
            " 6   Inspection Date    45322 non-null  object \n",
            " 7   Inspection Type    45322 non-null  object \n",
            " 8   Results            45322 non-null  object \n",
            " 9   Violations         45322 non-null  object \n",
            " 10  Latitude           45322 non-null  float64\n",
            " 11  Longitude          45322 non-null  float64\n",
            " 12  Results_missing    45322 non-null  bool   \n",
            " 13  Latitude_missing   45322 non-null  bool   \n",
            " 14  Longitude_missing  45322 non-null  bool   \n",
            " 15  License #_missing  45322 non-null  bool   \n",
            "dtypes: bool(4), float64(3), int64(1), object(8)\n",
            "memory usage: 4.3+ MB\n"
          ]
        }
      ]
    },
    {
      "cell_type": "code",
      "source": [
        "missing_counts = df.isnull().sum()\n",
        "missing_counts = missing_counts[missing_counts > 0]  # show only columns with missing\n",
        "print(missing_counts)\n"
      ],
      "metadata": {
        "colab": {
          "base_uri": "https://localhost:8080/"
        },
        "id": "NTpyoMvtLEV-",
        "outputId": "23d63a56-e62e-49dc-ba9e-40bfcce20353"
      },
      "execution_count": null,
      "outputs": [
        {
          "output_type": "stream",
          "name": "stdout",
          "text": [
            "Zip            7\n",
            "Latitude     165\n",
            "Longitude    165\n",
            "dtype: int64\n"
          ]
        }
      ]
    },
    {
      "cell_type": "markdown",
      "source": [
        "**Boxplots for Dispersion & Outlier Detection**"
      ],
      "metadata": {
        "id": "rn9xEwSukZEF"
      }
    },
    {
      "cell_type": "code",
      "source": [
        "import matplotlib.pyplot as plt\n",
        "import seaborn as sns\n",
        "\n",
        "numeric_cols = ['Latitude', 'Longitude', 'Zip']\n",
        "\n",
        "for col in numeric_cols:\n",
        "    plt.figure(figsize=(8, 4))\n",
        "    sns.boxplot(x=df[col])\n",
        "    plt.title(f'Boxplot for {col}')\n",
        "    plt.show()\n"
      ],
      "metadata": {
        "colab": {
          "base_uri": "https://localhost:8080/",
          "height": 1000
        },
        "id": "F_vMANr0MpgT",
        "outputId": "bdd49d8a-dfa5-4015-cdbe-57b3aeba2931"
      },
      "execution_count": null,
      "outputs": [
        {
          "output_type": "display_data",
          "data": {
            "text/plain": [
              "<Figure size 800x400 with 1 Axes>"
            ],
            "image/png": "[encoded data removed]"
          },
          "metadata": {}
        },
        {
          "output_type": "display_data",
          "data": {
            "text/plain": [
              "<Figure size 800x400 with 1 Axes>"
            ],
            "image/png": "[encoded data removed]"
          },
          "metadata": {}
        },
        {
          "output_type": "display_data",
          "data": {
            "text/plain": [
              "<Figure size 800x400 with 1 Axes>"
            ],
            "image/png": "[encoded data removed]"
          },
          "metadata": {}
        }
      ]
    },
    {
      "cell_type": "markdown",
      "source": [
        "**Outlier Detection with IQR Method**"
      ],
      "metadata": {
        "id": "plBRGRDFkjHN"
      }
    },
    {
      "cell_type": "code",
      "source": [
        "for col in numeric_cols:\n",
        "    Q1 = df[col].quantile(0.25)\n",
        "    Q3 = df[col].quantile(0.75)\n",
        "    IQR = Q3 - Q1\n",
        "    lower_bound = Q1 - 1.5 * IQR\n",
        "    upper_bound = Q3 + 1.5 * IQR\n",
        "\n",
        "    outliers = df[(df[col] < lower_bound) | (df[col] > upper_bound)]\n",
        "    print(f'Number of outliers in {col}: {outliers.shape[0]}')\n"
      ],
      "metadata": {
        "colab": {
          "base_uri": "https://localhost:8080/"
        },
        "id": "Wf-92tHVM3le",
        "outputId": "a694adb4-18ab-42bf-9569-3ace5d304728"
      },
      "execution_count": null,
      "outputs": [
        {
          "output_type": "stream",
          "name": "stdout",
          "text": [
            "Number of outliers in Latitude: 164\n",
            "Number of outliers in Longitude: 756\n",
            "Number of outliers in Zip: 371\n"
          ]
        }
      ]
    },
    {
      "cell_type": "markdown",
      "source": [
        "**Cleaning Outliers**"
      ],
      "metadata": {
        "id": "DsZT5XSok_tp"
      }
    },
    {
      "cell_type": "code",
      "source": [
        "Q1_lat = df['Latitude'].quantile(0.25)\n",
        "Q3_lat = df['Latitude'].quantile(0.75)\n",
        "IQR_lat = Q3_lat - Q1_lat\n",
        "lower_lat = Q1_lat - 1.5 * IQR_lat\n",
        "upper_lat = Q3_lat + 1.5 * IQR_lat\n",
        "\n",
        "Q1_lon = df['Longitude'].quantile(0.25)\n",
        "Q3_lon = df['Longitude'].quantile(0.75)\n",
        "IQR_lon = Q3_lon - Q1_lon\n",
        "lower_lon = Q1_lon - 1.5 * IQR_lon\n",
        "upper_lon = Q3_lon + 1.5 * IQR_lon\n",
        "\n",
        "df_clean = df[(df['Latitude'] >= lower_lat) & (df['Latitude'] <= upper_lat) &\n",
        "              (df['Longitude'] >= lower_lon) & (df['Longitude'] <= upper_lon)]\n",
        "\n",
        "print(f\"Rows before cleaning: {df.shape[0]}\")\n",
        "print(f\"Rows after removing lat/lon outliers: {df_clean.shape[0]}\")\n"
      ],
      "metadata": {
        "colab": {
          "base_uri": "https://localhost:8080/"
        },
        "id": "u2RJwPOKNS1R",
        "outputId": "573eecaa-9514-417b-b05e-aeda7589f352"
      },
      "execution_count": null,
      "outputs": [
        {
          "output_type": "stream",
          "name": "stdout",
          "text": [
            "Rows before cleaning: 45322\n",
            "Rows after removing lat/lon outliers: 44237\n"
          ]
        }
      ]
    },
    {
      "cell_type": "code",
      "source": [
        "Q1_zip = df['Zip'].quantile(0.25)\n",
        "Q3_zip = df['Zip'].quantile(0.75)\n",
        "IQR_zip = Q3_zip - Q1_zip\n",
        "lower_zip = Q1_zip - 1.5 * IQR_zip\n",
        "upper_zip = Q3_zip + 1.5 * IQR_zip\n",
        "\n",
        "df_clean = df_clean[(df_clean['Zip'] >= lower_zip) & (df_clean['Zip'] <= upper_zip)]\n",
        "print(f\"Rows after removing zip outliers: {df_clean.shape[0]}\")\n"
      ],
      "metadata": {
        "colab": {
          "base_uri": "https://localhost:8080/"
        },
        "id": "06FHRBJuNX-q",
        "outputId": "3b17c7ef-baeb-4529-ba02-1b023b76a1d3"
      },
      "execution_count": null,
      "outputs": [
        {
          "output_type": "stream",
          "name": "stdout",
          "text": [
            "Rows after removing zip outliers: 43930\n"
          ]
        }
      ]
    },
    {
      "cell_type": "markdown",
      "source": [
        "**MCT Analysis for Nan/Null Values**"
      ],
      "metadata": {
        "id": "UZMDZj48lU-T"
      }
    },
    {
      "cell_type": "code",
      "source": [
        "# Median\n",
        "median_values = df_clean[['Latitude', 'Longitude', 'Zip']].median()\n",
        "\n",
        "# Mean\n",
        "mean_values = df_clean[['Latitude', 'Longitude', 'Zip']].mean()\n",
        "\n",
        "# Mode\n",
        "mode_values = df_clean[['Latitude', 'Longitude', 'Zip']].mode().iloc[0]\n",
        "\n",
        "print(\"Median values:\\n\", median_values)\n",
        "print(\"\\nMean values:\\n\", mean_values)\n",
        "print(\"\\nMode values:\\n\", mode_values)\n"
      ],
      "metadata": {
        "colab": {
          "base_uri": "https://localhost:8080/"
        },
        "id": "-wvZ6mROPVyx",
        "outputId": "811f67f2-906f-4ced-dda7-b8b6a4e10d82"
      },
      "execution_count": null,
      "outputs": [
        {
          "output_type": "stream",
          "name": "stdout",
          "text": [
            "Median values:\n",
            " Latitude        41.890497\n",
            "Longitude      -87.665081\n",
            "Zip          60625.000000\n",
            "dtype: float64\n",
            "\n",
            "Mean values:\n",
            " Latitude        41.876953\n",
            "Longitude      -87.672148\n",
            "Zip          60628.070521\n",
            "dtype: float64\n",
            "\n",
            "Mode values:\n",
            " Latitude        41.850451\n",
            "Longitude      -87.658798\n",
            "Zip          60647.000000\n",
            "Name: 0, dtype: float64\n"
          ]
        }
      ]
    },
    {
      "cell_type": "markdown",
      "source": [
        "**Measuring Data Variability with Standard Deviation and IQR**"
      ],
      "metadata": {
        "id": "xcWSoao2louT"
      }
    },
    {
      "cell_type": "code",
      "source": [
        "std_dev = df_clean[['Latitude', 'Longitude', 'Zip']].std()\n",
        "Q1 = df_clean[['Latitude', 'Longitude', 'Zip']].quantile(0.25)\n",
        "Q3 = df_clean[['Latitude', 'Longitude', 'Zip']].quantile(0.75)\n",
        "IQR = Q3 - Q1\n",
        "\n",
        "print(\"Standard Deviation:\\n\", std_dev)\n",
        "print(\"\\nInterquartile Range (IQR):\\n\", IQR)\n"
      ],
      "metadata": {
        "colab": {
          "base_uri": "https://localhost:8080/"
        },
        "id": "lr7zrp0fPjlT",
        "outputId": "782390dd-e8ec-450c-dee1-06b7a94b3030"
      },
      "execution_count": null,
      "outputs": [
        {
          "output_type": "stream",
          "name": "stdout",
          "text": [
            "Standard Deviation:\n",
            " Latitude      0.079277\n",
            "Longitude     0.051701\n",
            "Zip          16.837537\n",
            "dtype: float64\n",
            "\n",
            "Interquartile Range (IQR):\n",
            " Latitude      0.111691\n",
            "Longitude     0.070657\n",
            "Zip          28.000000\n",
            "dtype: float64\n"
          ]
        }
      ]
    },
    {
      "cell_type": "markdown",
      "source": [
        "**Correlation Between Geographic and Location Variables**"
      ],
      "metadata": {
        "id": "zAvhZ-uel3Ej"
      }
    },
    {
      "cell_type": "code",
      "source": [
        "corr = df_clean[['Latitude', 'Longitude', 'Zip']].corr()\n",
        "print(\"Correlation matrix:\\n\", corr)\n"
      ],
      "metadata": {
        "colab": {
          "base_uri": "https://localhost:8080/"
        },
        "id": "t5l2VLjEPp1U",
        "outputId": "ab948e59-8975-445b-86d3-41708d94bdac"
      },
      "execution_count": null,
      "outputs": [
        {
          "output_type": "stream",
          "name": "stdout",
          "text": [
            "Correlation matrix:\n",
            "            Latitude  Longitude       Zip\n",
            "Latitude   1.000000  -0.392385  0.158745\n",
            "Longitude -0.392385   1.000000 -0.319431\n",
            "Zip        0.158745  -0.319431  1.000000\n"
          ]
        }
      ]
    },
    {
      "cell_type": "markdown",
      "source": [
        "**Distribution of Food Inspections by Risk Level**"
      ],
      "metadata": {
        "id": "lROoIJdjmEKB"
      }
    },
    {
      "cell_type": "code",
      "source": [
        "risk_counts = df_clean['Risk'].value_counts()\n",
        "print(risk_counts)\n",
        "\n",
        "# Visualization\n",
        "import matplotlib.pyplot as plt\n",
        "import seaborn as sns\n",
        "\n",
        "plt.figure(figsize=(8,5))\n",
        "sns.barplot(x=risk_counts.index, y=risk_counts.values, palette='viridis')\n",
        "plt.title('Count of Inspections by Risk Level')\n",
        "plt.xlabel('Risk Level')\n",
        "plt.ylabel('Number of Inspections')\n",
        "plt.show()\n"
      ],
      "metadata": {
        "colab": {
          "base_uri": "https://localhost:8080/",
          "height": 715
        },
        "id": "7AcPj_HXRvJ5",
        "outputId": "810bf7d9-a822-4456-a838-030a4584914c"
      },
      "execution_count": null,
      "outputs": [
        {
          "output_type": "stream",
          "name": "stdout",
          "text": [
            "Risk\n",
            "Risk 1 (High)      35639\n",
            "Risk 2 (Medium)     6114\n",
            "Risk 3 (Low)        2130\n",
            "All                   36\n",
            "nan                   11\n",
            "Name: count, dtype: int64\n"
          ]
        },
        {
          "output_type": "stream",
          "name": "stderr",
          "text": [
            "/tmp/ipython-input-2692699966.py:9: FutureWarning: \n",
            "\n",
            "Passing `palette` without assigning `hue` is deprecated and will be removed in v0.14.0. Assign the `x` variable to `hue` and set `legend=False` for the same effect.\n",
            "\n",
            "  sns.barplot(x=risk_counts.index, y=risk_counts.values, palette='viridis')\n"
          ]
        },
        {
          "output_type": "display_data",
          "data": {
            "text/plain": [
              "<Figure size 800x500 with 1 Axes>"
            ],
            "image/png": "[encoded data removed]"
          },
          "metadata": {}
        }
      ]
    },
    {
      "cell_type": "markdown",
      "source": [
        "**Proportion of Food Inspections With and Without Violations**"
      ],
      "metadata": {
        "id": "ViO9CUv2mMzw"
      }
    },
    {
      "cell_type": "code",
      "source": [
        "# Check unique values in Violations column to understand how 'no violations' is represented\n",
        "print(\"Unique values in 'Violations' column:\")\n",
        "print(df_clean['Violations'].unique())\n",
        "\n",
        "\n",
        "# Based on the unique values, adjust the condition to identify 'No Violations'\n",
        "# Assuming 'No Violations Reported' is the correct string to identify no violations\n",
        "df_clean['Has Violations'] = df_clean['Violations'].apply(lambda x: 0 if x == 'No Violations Reported' else 1)\n",
        "violation_counts = df_clean['Has Violations'].value_counts()\n",
        "\n",
        "print(\"\\nViolation Counts:\")\n",
        "print(violation_counts)\n",
        "\n",
        "# Pie chart\n",
        "plt.figure(figsize=(6,6))\n",
        "# Ensure labels match the actual counts\n",
        "labels = ['Has Violations', 'No Violations'] if 0 in violation_counts.index else ['Has Violations']\n",
        "colors = ['red', 'green'] if 0 in violation_counts.index else ['red']\n",
        "\n",
        "plt.pie(violation_counts, labels=labels, autopct='%1.1f%%', colors=colors)\n",
        "plt.title('Violations Status')\n",
        "plt.show()"
      ],
      "metadata": {
        "colab": {
          "base_uri": "https://localhost:8080/",
          "height": 767
        },
        "id": "LrDB4_kqR1Jf",
        "outputId": "1eab0b88-bd0b-4ee8-d8ff-b2391e543425"
      },
      "execution_count": null,
      "outputs": [
        {
          "output_type": "stream",
          "name": "stdout",
          "text": [
            "Unique values in 'Violations' column:\n",
            "['53. TOILET FACILITIES: PROPERLY CONSTRUCTED, SUPPLIED, & CLEANED - Comments: OBSERVED NO COVERED RECEPTACLE IN STAFF WASHROOM. INSTRUCTED MANAGER TO PROVIDE AND MAINTAIN. | 55. PHYSICAL FACILITIES INSTALLED, MAINTAINED & CLEAN - Comments: OBSERVED DUST BUILDUP ON VENTILATION FAN INSIDE STAFF WASHROOM. OBSERVED DEBRIS ON FLOOR INSIDE FURNACE ROOM AND STORAGE CLOSETS. INSTRUCTED MANAGER TO CLEAN AND MAINTAIN.'\n",
            " 'nan'\n",
            " '48. WAREWASHING FACILITIES: INSTALLED, MAINTAINED & USED; TEST STRIPS - Comments: OBSERVED MULTI-USE SHEET PANS AND PIZZA PANS TOO LARGE TO COMPLETLEY SUBMERGE INSIDE 3-COMPARTMENT SINK. INSTRUCTED MANAGER TO PROVIDE ALTERNATE WASH, RINSE AND SANITIZE PROCEDURE OR REMOVE LARGE PANS FROM PREMISES. | 51. PLUMBING INSTALLED; PROPER BACKFLOW DEVICES - Comments: OBSERVED THIRD SINK NOT OPERABLE IN CHILDREN WASHROOM. INSTRUCTED MANAGER TO REPAIR AND MAINTAIN. | 55. PHYSICAL FACILITIES INSTALLED, MAINTAINED & CLEAN - Comments: OBSERVED DEBRIS ON FLOORS ALONG LOCKERS AND COOLERS IN STORAGE AREA. INSTRUCTED MANAGER TO CLEAN AND MAINTAIN.'\n",
            " ...\n",
            " \"38. INSECTS, RODENTS, & ANIMALS NOT PRESENT - Comments: OBSERVED APPROXIMATELY 60-80 MICE DROPPINGS ON SITE IN THE FOLLOWING AREAS:IN THE MANAGER'S OFFICE IN THE KITCHEN, IN THE MOP SINK CLOSET, UNDER THE SHEVING UNITS IN THE DRY FOOD STORAGE AREA, NEXT TO THE THREE-COMPARTMENT SINK, INSIDE THE EMPLOYEE WOMEN'S TOILET ROOM, AND THE ELECTRICAL ROOM NEAR THE FOOD PREP AREA. INSTRUCTED TO REMOVE ALL DROPPINGS, CLEAN, AND SANITIZE ALL AFFECTED AREAS. RECOMMENDED CONTACTING PEST CONTROL.  PRIORITY FOUNDATION VIOLATION 7-38-020(A), NO CITATION ISSUED. | 47. FOOD & NON-FOOD CONTACT SURFACES CLEANABLE, PROPERLY DESIGNED, CONSTRUCTED & USED - Comments: OBSERVED BOXES NOT ELEVATED IN THE SHOWER ROOM IN THE FOOD PREP AREA. INSTRUCTED TO ELEVATE ALL ITEMS AND MAINTAIN. | 51. PLUMBING INSTALLED; PROPER BACKFLOW DEVICES - Comments: OBSERVED A LEAK AT THE PIPE OF THE HANDWASHING SINK IN THE DISHWASHING AREA. THE WATER FROM THE LEAK WAS POOLING INTO THE AREA WHERE THE DISHWARE IS STORED. INSTRUCTED TO REPAIR AND MAINTAIN. | 57. ALL FOOD EMPLOYEES HAVE FOOD HANDLER TRAINING - Comments: OBSERVED AN EXPIRED FOOD HANDLER CERTIFICATE POSTED. INSTRUCTED TO HAVE ALL FOOD HANDLER RETAKE THE FOOD HANDLER COURSE AND MAINTAIN RECORDS ON SITE.\"\n",
            " '2. CITY OF CHICAGO FOOD SERVICE SANITATION CERTIFICATE - Comments: OBSERVED NO VALID CITY OF CHICAGO CERTIFIED FOOD MANAGER ON DUTY NOR A VALID CITY OF CHICAGO FOOD SANITATION CERTIFICATE POSTED TO VIEW WHILE TCS FOODS ARE BEING PREPARED,HANDLED AND SERVED SUCH AS(ITALIAN BEEF,GROUND BEEF,DELI MEATS).MUST PROVIDE AND MAINTAIN.(PRIORITY FOUNDATION 7-38-012)(CITATION ISSUED) | 38. INSECTS, RODENTS, & ANIMALS NOT PRESENT - Comments: OBSERVED A 1/4\" GAP AT THE BOTTOM OF THE FRONT DOOR. MUST PROVIDE AND MAINTAIN A WEATHER STRIP AT THE BOTTOM OF SAID DOOR TO PREVENT POSSIBLE ENTRY POINT FOR PESTS. | 49. NON-FOOD/FOOD CONTACT SURFACES CLEAN - Comments: MUST DETAIL CLEAN THE INTERIOR SHELVING INSIDE THE WALK IN COOLER TO REMOVE DEBRIS AND SPILLS. | 51. PLUMBING INSTALLED; PROPER BACKFLOW DEVICES - Comments: OBSERVED A LEAK AT THE FAUCET FIXTURE IN THE WASHROOM. MUST REPAIR AND MAINTAIN. | 55. PHYSICAL FACILITIES INSTALLED, MAINTAINED & CLEAN - Comments: FLOORS NEED DETAIL CLEANING INSIDE THE WALK IN COOLER, REAR STORAGE AREA AND IN THE FRONT/SIDE PREP AREAS TO REMOVE SPILL AND DEBRIS. | 55. PHYSICAL FACILITIES INSTALLED, MAINTAINED & CLEAN - Comments: NOTED MISSING AND DAMAGED CEILING TILES IN THE REAR AND SIDE PREP AREAS. NOTED THE WALLS IN THE REAR STORAGE AREA DIRTY. MUST CLEAN AND MAINTAIN AREAS.'\n",
            " '2. CITY OF CHICAGO FOOD SERVICE SANITATION CERTIFICATE - Comments: NO CERTIFIED FOOD MANAGER PRESENT WITH A CITY OF CHICAGO FOOD SANITATION CERTIFICATE WHILE TCS FOODS (MACARONI AND CHEESE AT 133F) IS BEING PREPARED AND SERVED.  MANAGEMENT INSTRUCTED THAT A CERTIFIED FOOD MANAGER MUST BE PRESENT AT ALL TIMES WHILE TCS FOODS ARE BEING PREPARED OR SERVED.  PRIORITY FOUNDATION VIOLATION 7-38-012.  CITATION ISSUED. | 3. MANAGEMENT, FOOD EMPLOYEE AND CONDITIONAL EMPLOYEE; KNOWLEDGE, RESPONSIBILITIES AND REPORTING - Comments: NO SIGNED EMPLOYEE HEALTH POLICY WAS PROVIDED ON THE PREMISES.  MANAGEMENT INSTRUCTED TO HAVE A SIGNED EMPLOYEE HEALTH POLICY FOR EACH EMPLOYEE.  PRIORITY FOUNDATION VIOLATION 7-38-010.  CITATION ISSUED. | 38. INSECTS, RODENTS, & ANIMALS NOT PRESENT - Comments: OBSERVED NO PEST CONTROL LOG BOOK PROVIDED ON THE PREMISES.  MANAGEMENT INSTRUCTED TO PROVIDE A PEST CONTROL LOG BOOK FROM A LICENSED PEST CONTROL COMPANY WITH A MINIMUM OF 2 PEST CONTROL INSPECTION REPORTS FROM THE PAST YEAR.  PRIORITY FOUNDATION VIOLATION 7-38-020(C).  CITATION ISSUED.']\n",
            "\n",
            "Violation Counts:\n",
            "Has Violations\n",
            "1    43930\n",
            "Name: count, dtype: int64\n"
          ]
        },
        {
          "output_type": "display_data",
          "data": {
            "text/plain": [
              "<Figure size 600x600 with 1 Axes>"
            ],
            "image/png": "[encoded data removed]"
          },
          "metadata": {}
        }
      ]
    },
    {
      "cell_type": "markdown",
      "source": [
        "**Top Facility Types with the Highest Average Violations 🍽️📊**"
      ],
      "metadata": {
        "id": "mFG-_qyomWVP"
      }
    },
    {
      "cell_type": "code",
      "source": [
        "df_clean['Violation Count'] = df_clean['Violations'].apply(lambda x: len(x.split(',')) if x != 'No Violations Reported' else 0)\n",
        "avg_violations = df_clean.groupby('Facility Type')['Violation Count'].mean().sort_values(ascending=False)\n",
        "\n",
        "print(avg_violations.head(10))  # Top 10 facility types with most average violations\n",
        "\n",
        "# Visualization\n",
        "plt.figure(figsize=(10,6))\n",
        "sns.barplot(y=avg_violations.head(10).index, x=avg_violations.head(10).values, palette='magma')\n",
        "plt.xlabel('Average Number of Violations')\n",
        "plt.title('Top 10 Facility Types by Average Violations')\n",
        "plt.show()\n"
      ],
      "metadata": {
        "colab": {
          "base_uri": "https://localhost:8080/",
          "height": 879
        },
        "id": "-47xaU3mR6iR",
        "outputId": "3c83d927-16e8-4a11-b4f6-81c4c9ebdc7c"
      },
      "execution_count": null,
      "outputs": [
        {
          "output_type": "stream",
          "name": "stdout",
          "text": [
            "Facility Type\n",
            "UNLICENSED FACILITY                  17.000000\n",
            "RESTAURANT/BAR                       16.333333\n",
            "ASSISTED LIVING                      14.714286\n",
            "RESTAURANT/GROCERY STORE             12.666667\n",
            "GROCERY STORE PLUS WIRELESS STORE    10.333333\n",
            "ENTERTAINMENT VENUE                  10.000000\n",
            "PALETERIA                             9.500000\n",
            "NURSING HOME                          9.000000\n",
            "COFFEE ROASTER                        9.000000\n",
            "Assisted Living                       8.500000\n",
            "Name: Violation Count, dtype: float64\n"
          ]
        },
        {
          "output_type": "stream",
          "name": "stderr",
          "text": [
            "/tmp/ipython-input-2619502217.py:8: FutureWarning: \n",
            "\n",
            "Passing `palette` without assigning `hue` is deprecated and will be removed in v0.14.0. Assign the `y` variable to `hue` and set `legend=False` for the same effect.\n",
            "\n",
            "  sns.barplot(y=avg_violations.head(10).index, x=avg_violations.head(10).values, palette='magma')\n"
          ]
        },
        {
          "output_type": "display_data",
          "data": {
            "text/plain": [
              "<Figure size 1000x600 with 1 Axes>"
            ],
            "image/png": "[encoded data removed]"
          },
          "metadata": {}
        }
      ]
    },
    {
      "cell_type": "markdown",
      "source": [
        "**Monthly Trend of Food Inspections Over Time**"
      ],
      "metadata": {
        "id": "mfP-dmRNmgtl"
      }
    },
    {
      "cell_type": "code",
      "source": [
        "df_clean['Inspection Date'] = pd.to_datetime(df_clean['Inspection Date'])\n",
        "df_clean['Month'] = df_clean['Inspection Date'].dt.to_period('M')\n",
        "monthly_counts = df_clean.groupby('Month').size()\n",
        "\n",
        "plt.figure(figsize=(12,6))\n",
        "monthly_counts.plot()\n",
        "plt.title('Monthly Inspection Counts Over Time')\n",
        "plt.xlabel('Month')\n",
        "plt.ylabel('Number of Inspections')\n",
        "plt.show()"
      ],
      "metadata": {
        "colab": {
          "base_uri": "https://localhost:8080/",
          "height": 580
        },
        "id": "dWAxsOJ8SBxy",
        "outputId": "ecec8327-311d-4717-e857-a6946aad0d4a"
      },
      "execution_count": null,
      "outputs": [
        {
          "output_type": "display_data",
          "data": {
            "text/plain": [
              "<Figure size 1200x600 with 1 Axes>"
            ],
            "image/png": "[encoded data removed]"
          },
          "metadata": {}
        }
      ]
    },
    {
      "cell_type": "markdown",
      "source": [
        "**Top 10 Zip Codes with Highest Number of Inspections**"
      ],
      "metadata": {
        "id": "Zutn1Msfmn1-"
      }
    },
    {
      "cell_type": "code",
      "source": [
        "top_zips = df_clean['Zip'].value_counts().head(10)\n",
        "print(top_zips)\n",
        "\n",
        "plt.figure(figsize=(10,6))\n",
        "sns.barplot(x=top_zips.index.astype(str), y=top_zips.values, palette='coolwarm')\n",
        "plt.xlabel('Zip Code')\n",
        "plt.ylabel('Number of Inspections')\n",
        "plt.title('Top 10 Zip Codes by Number of Inspections')\n",
        "plt.show()\n"
      ],
      "metadata": {
        "colab": {
          "base_uri": "https://localhost:8080/",
          "height": 879
        },
        "id": "RFo40G2_SXur",
        "outputId": "3e6b7bd2-7f12-46e9-f8f3-16757da2a690"
      },
      "execution_count": null,
      "outputs": [
        {
          "output_type": "stream",
          "name": "stdout",
          "text": [
            "Zip\n",
            "60647.0    1729\n",
            "60614.0    1614\n",
            "60608.0    1568\n",
            "60622.0    1533\n",
            "60618.0    1482\n",
            "60616.0    1462\n",
            "60611.0    1452\n",
            "60657.0    1410\n",
            "60607.0    1323\n",
            "60625.0    1314\n",
            "Name: count, dtype: int64\n"
          ]
        },
        {
          "output_type": "stream",
          "name": "stderr",
          "text": [
            "/tmp/ipython-input-693674057.py:5: FutureWarning: \n",
            "\n",
            "Passing `palette` without assigning `hue` is deprecated and will be removed in v0.14.0. Assign the `x` variable to `hue` and set `legend=False` for the same effect.\n",
            "\n",
            "  sns.barplot(x=top_zips.index.astype(str), y=top_zips.values, palette='coolwarm')\n"
          ]
        },
        {
          "output_type": "display_data",
          "data": {
            "text/plain": [
              "<Figure size 1000x600 with 1 Axes>"
            ],
            "image/png": "[encoded data removed]"
          },
          "metadata": {}
        }
      ]
    },
    {
      "cell_type": "markdown",
      "source": [
        "**Monthly Trends in Inspection Results (Pass/Fail/Other Over Time)**"
      ],
      "metadata": {
        "id": "kgwsmVhPm-BR"
      }
    },
    {
      "cell_type": "code",
      "source": [
        "monthly_results = df_clean.groupby([df_clean['Inspection Date'].dt.to_period('M'), 'Results']).size().unstack(fill_value=0)\n",
        "\n",
        "monthly_results.plot(kind='line', figsize=(12,6))\n",
        "plt.title('Monthly Inspection Results Trends')\n",
        "plt.xlabel('Month')\n",
        "plt.ylabel('Number of Inspections')\n",
        "plt.show()\n"
      ],
      "metadata": {
        "colab": {
          "base_uri": "https://localhost:8080/",
          "height": 580
        },
        "id": "RvyBz5I_Sp3X",
        "outputId": "96e3f6b4-e8b7-42cc-90d7-b98e21cb49d6"
      },
      "execution_count": null,
      "outputs": [
        {
          "output_type": "display_data",
          "data": {
            "text/plain": [
              "<Figure size 1200x600 with 1 Axes>"
            ],
            "image/png": "[encoded data removed]"
          },
          "metadata": {}
        }
      ]
    }
  ]
}